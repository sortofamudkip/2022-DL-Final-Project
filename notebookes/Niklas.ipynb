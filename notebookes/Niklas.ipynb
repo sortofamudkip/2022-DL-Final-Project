{
  "nbformat": 4,
  "nbformat_minor": 0,
  "metadata": {
    "colab": {
      "name": "Niklas.ipynb",
      "provenance": [],
      "authorship_tag": "ABX9TyP0PgNKsHuyLf9BtGinKrSF",
      "include_colab_link": true
    },
    "kernelspec": {
      "name": "python3",
      "display_name": "Python 3"
    },
    "language_info": {
      "name": "python"
    }
  },
  "cells": [
    {
      "cell_type": "markdown",
      "metadata": {
        "id": "view-in-github",
        "colab_type": "text"
      },
      "source": [
        "<a href=\"https://colab.research.google.com/github/sortofamudkip/2022-DL-Final-Project/blob/main/notebookes/Niklas.ipynb\" target=\"_parent\"><img src=\"https://colab.research.google.com/assets/colab-badge.svg\" alt=\"Open In Colab\"/></a>"
      ]
    },
    {
      "cell_type": "code",
      "execution_count": null,
      "metadata": {
        "id": "DJxAJ9pIhRtu"
      },
      "outputs": [],
      "source": [
        ""
      ]
    }
  ]
}