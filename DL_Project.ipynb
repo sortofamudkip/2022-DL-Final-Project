{
  "cells": [
    {
      "cell_type": "markdown",
      "metadata": {
        "id": "J_OJXwJnxA3t"
      },
      "source": [
        "\n",
        "\n",
        "# Data Loading\n",
        "\n"
      ]
    },
    {
      "cell_type": "code",
      "execution_count": null,
      "metadata": {
        "id": "S_zDff7oXeCg"
      },
      "outputs": [],
      "source": [
        "from more_itertools import unzip\n",
        "from torch.utils.data import DataLoader, Dataset, random_split\n",
        "import kaggle\n",
        "import zipfile\n",
        "import pandas as pd\n",
        "import os\n",
        "from PIL import Image\n",
        "from yaml import load\n",
        "from torchvision import transforms\n",
        "import pandas as pd\n",
        "import numpy as np\n",
        "import torch\n",
        "\n",
        "\n",
        "class HistopathologicCancerDetectionDataset(Dataset):\n",
        "    KAGGLE_DATASET = \"histopathologic-cancer-detection\"\n",
        "\n",
        "    def __init__(self, data_path,figsize=224):\n",
        "        self.data_path = data_path\n",
        "        self._download()\n",
        "        self.train_labels = pd.read_csv(\n",
        "            os.path.join(self.data_path, \"train_labels.csv\")\n",
        "        )\n",
        "        self.transforms = transforms.Compose([transforms.Resize(figsize),\n",
        "                                              transforms.ToTensor()],\n",
        "                                             )\n",
        "\n",
        "    def __len__(self):\n",
        "        return len(self.train_labels)\n",
        "\n",
        "    def __getitem__(self, index):\n",
        "        image_id = self.train_labels[\"id\"].iloc[index]\n",
        "        label = self.train_labels[\"label\"].iloc[index]\n",
        "        img = Image.open(os.path.join(self.data_path, \"train\", image_id + \".tif\"))\n",
        "        return self.transforms(img), label\n",
        "\n",
        "    def _download(self):\n",
        "        kaggle.api.authenticate()\n",
        "        kaggle.api.competition_download_files(\n",
        "            self.KAGGLE_DATASET, path=self.data_path, quiet=False\n",
        "        )\n",
        "        # Only unzip if we cannot find certain files\n",
        "        if not set([\"train\", \"train_labels.csv\"]).issubset(os.listdir(self.data_path)):\n",
        "            with zipfile.ZipFile(\n",
        "                os.path.join(self.data_path, self.KAGGLE_DATASET + \".zip\")\n",
        "            ) as zipped:\n",
        "                zipped.extractall(self.data_path)\n",
        "\n",
        "\n",
        "def load_data(data_path=None,figsize=224 ,test_split=0.33, batch_size=32):\n",
        "    \"\"\"\n",
        "    Downloads the dataset from Kaggle if needed, creates a Pytorch Dataset and then\n",
        "    setups data loaders for the training and test set.\n",
        "\n",
        "    Required setup:\n",
        "    1. Go to https://www.kaggle.com/<ACCOUNT_NAME>/account\n",
        "    2. Click \"Create New API Token\"\n",
        "    3. Add Token file to ~/.kaggle/kaggle.json\n",
        "    \"\"\"\n",
        "    if not data_path:\n",
        "        data_path = os.path.join(os.path.dirname(os.path.realpath(__file__)), \"data\")\n",
        "    dataset = HistopathologicCancerDetectionDataset(data_path,figsize)\n",
        "    test_size = int(len(dataset) * test_split)\n",
        "    train_size = len(dataset) - test_size\n",
        "    train_set, test_set = random_split(dataset, [train_size, test_size])\n",
        "    train_loader = DataLoader(train_set, shuffle=True, batch_size=batch_size)\n",
        "    test_loader = DataLoader(test_set, batch_size=batch_size)\n",
        "    return train_loader, test_loader"
      ]
    },
    {
      "cell_type": "markdown",
      "metadata": {
        "id": "vEWLAhAjx_Rq"
      },
      "source": [
        "Train Model Code"
      ]
    },
    {
      "cell_type": "code",
      "execution_count": null,
      "metadata": {
        "id": "F40RUzdnMyq1"
      },
      "outputs": [],
      "source": [
        "def train_model(model, criterion, optimizer, scheduler,train_loader,val_loader, num_epochs=25):\n",
        "    '''\n",
        "    Function to train the model \n",
        "    '''\n",
        "    since = time.time()\n",
        "\n",
        "    best_model_wts = copy.deepcopy(model.state_dict())\n",
        "    best_acc = 0.0\n",
        "\n",
        "    for epoch in range(num_epochs):\n",
        "        print(f'Epoch {epoch}/{num_epochs - 1}')\n",
        "        print('-' * 10)\n",
        "\n",
        "        # Each epoch has a training and validation phase\n",
        "        for phase in ['train', 'val']:\n",
        "            if phase == 'train':\n",
        "                model.train()\n",
        "                loader=train_loader# Set model to training mode and choose the correct dataloader\n",
        "            else:\n",
        "                model.eval() \n",
        "                loader=val_loader# Set model to evaluate mode and choose the correct dataloader\n",
        "\n",
        "            running_loss = 0.0\n",
        "            running_corrects = 0\n",
        "\n",
        "            # Iterate over data.\n",
        "            for s in loader:\n",
        "                #To(device) transfers the image is on the GPU\n",
        "                inputs = s[0].to(device)#zeros element here refers to image\n",
        "                \n",
        "                #casting labels to long as float doesn't work to train the resnet\n",
        "                \n",
        "                labels = (s[1]).type(torch.LongTensor)# first element is the label\n",
        "                labels = labels.to(device)\n",
        "                \n",
        "\n",
        "                # zero the parameter gradients\n",
        "                optimizer.zero_grad()\n",
        "\n",
        "                # forward\n",
        "                # track history if only in train\n",
        "                with torch.set_grad_enabled(phase == 'train'):\n",
        "                    outputs = model(inputs)\n",
        "                    _, preds = torch.max(outputs, 1)\n",
        "                    loss = criterion(outputs, labels)\n",
        "\n",
        "                    # backward + optimize only if in training phase\n",
        "                    if phase == 'train':\n",
        "                        loss.backward()\n",
        "                        optimizer.step()\n",
        "\n",
        "                # statistics\n",
        "                running_loss += loss.item() * inputs.size(0)\n",
        "                running_corrects += torch.sum(preds == labels.data)\n",
        "            if phase == 'train':\n",
        "                scheduler.step()\n",
        "\n",
        "            epoch_loss = running_loss / len(loader)\n",
        "            if(phase== 'train'):\n",
        "                cf_matrix=evaluate_model(model,train_loader)\n",
        "                tn, fp, fn, tp = cf_matrix.ravel()\n",
        "                specificity=tn/(tn+fp)\n",
        "                sensitivity=tp/(tp+fn)\n",
        "                precision=tp/(tp+fp)\n",
        "                epoch_acc=(tp + tn) / (tp + fn + fp + tn)\n",
        "                print(f'{phase} Loss: {epoch_loss:.4f} Acc: {epoch_acc:.4f}')\n",
        "                print('train Sensitivity is {}'.format(sensitivity))\n",
        "                print()\n",
        "                print('train specificity is {}'.format(specificity))\n",
        "                print()\n",
        "                print('train precision is {}'.format(precision))\n",
        "                print()\n",
        "                print('Confusion matrix {}'.format(cf_matrix))\n",
        "                metrics={\"train_loss\": epoch_loss, \n",
        "                         \"train_accuracy\":epoch_acc,\n",
        "                        \"train_Sensitivity \": sensitivity,\n",
        "                        \"train_precision \":precision,\n",
        "                        \"train_specificity \":(specificity),\n",
        "                         \n",
        "                        }\n",
        "                \n",
        "                \n",
        "            else:\n",
        "                cf_matrix=evaluate_model(model,val_loader)\n",
        "                tn, fp, fn, tp = cf_matrix.ravel()\n",
        "                specificity=tn/(tn+fp)\n",
        "                sensitivity=tp/(tp+fn)\n",
        "                precision=tp/(tp+fp)\n",
        "                epoch_acc=(tp + tn) / (tp + fn + fp + tn)\n",
        "                print(f'{phase} Loss: {epoch_loss:.4f} Acc: {epoch_acc:.4f}')\n",
        "                print('val Sensitivity is {}'.format(sensitivity))\n",
        "                print()\n",
        "                print('val specificity is {}'.format(specificity))\n",
        "                print()\n",
        "                print(' val precision is {}'.format(precision))\n",
        "                print()\n",
        "\n",
        "                print()\n",
        "                print('Confusion matrix {}'.format(cf_matrix))\n",
        "                metrics={\"val_loss\": epoch_loss, \n",
        "                         \"val_accuracy\":epoch_acc,\n",
        "                        \"val_Sensitivity \": sensitivity,\n",
        "                        \"val_precision \":precision,\n",
        "                        \"val_specificity \":(specificity),\n",
        "                         \n",
        "                        }\n",
        "                \n",
        "            #wandb.log({**metrics})\n",
        "            #Calculate classification metrics\n",
        "\n",
        "            # deep copy the model\n",
        "            if phase == 'val' and epoch_acc > best_acc:\n",
        "                best_acc = epoch_acc\n",
        "                best_model_wts = copy.deepcopy(model.state_dict())\n",
        "\n",
        "        print()\n",
        "\n",
        "    time_elapsed = time.time() - since\n",
        "    print(f'Training complete in {time_elapsed // 60:.0f}m {time_elapsed % 60:.0f}s')\n",
        "    print(f'Best val Acc: {best_acc:4f}')\n",
        "\n",
        "    # load best model weights\n",
        "    model.load_state_dict(best_model_wts)\n",
        "    return model"
      ]
    },
    {
      "cell_type": "code",
      "execution_count": null,
      "metadata": {
        "id": "Xn0a1GDXTrLG"
      },
      "outputs": [],
      "source": [
        "def visualize_model(model,test_loader,num_images=6):\n",
        "    '''\n",
        "    Function to visualize the output of the model\n",
        "    '''\n",
        "    was_training = model.training\n",
        "    model.eval()\n",
        "    images_so_far = 0\n",
        "    fig = plt.figure()\n",
        "\n",
        "    with torch.no_grad():\n",
        "        for i, s in enumerate(test_loader):\n",
        "            inputs = s[0].to(device)\n",
        "            #concat the input to change to 3 channels\n",
        "            #casting labels to long as float doesn't work to train the resnet\n",
        "            labels = (s[1]).type(torch.LongTensor)\n",
        "            labels = labels.to(device)\n",
        "\n",
        "            outputs = model(inputs)\n",
        "            _, preds = torch.max(outputs, 1)\n",
        "           \n",
        "\n",
        "            for j in range(inputs.size()[0]):\n",
        "                images_so_far += 1\n",
        "                ax = plt.subplot(num_images//2, 2, images_so_far)\n",
        "                ax.axis('off')\n",
        "                ax.set_title(f'predicted: {preds[j]} True label: {labels[j]}')\n",
        "                #spliting x to visualize output to undo concat\n",
        "                x=torch.split(inputs.cpu().data[j],3, dim=0)[0][0]\n",
        "                plt.imshow(x)\n",
        "\n",
        "                if images_so_far == num_images:\n",
        "                    model.train(mode=was_training)\n",
        "                    return\n",
        "        model.train(mode=was_training)"
      ]
    },
    {
      "cell_type": "code",
      "execution_count": null,
      "metadata": {
        "id": "ItU6COa86YUr"
      },
      "outputs": [],
      "source": [
        "def evaluate_model(model,val_loader):\n",
        "    '''\n",
        "    Method to check the model preformance per different classification metrics\n",
        "    '''\n",
        "    was_training = model.training\n",
        "    model.eval()\n",
        "    y_pred = []\n",
        "    y_true = []\n",
        "    CM=0\n",
        "    with torch.no_grad():\n",
        "        for i, s in enumerate(val_loader):\n",
        "            inputs = s[0].to(device)\n",
        "            \n",
        "            #casting labels to long as float doesn't work to train the resnet\n",
        "            labels = (s[1]).type(torch.LongTensor)\n",
        "            outputs = model(inputs)\n",
        "            _, preds = torch.max(outputs, 1)\n",
        "            y_pred.extend(preds.data.cpu().numpy())\n",
        "            y_true.extend(labels.data.cpu().numpy())\n",
        "    cf_matrix = confusion_matrix(y_true, y_pred)   \n",
        "    \n",
        "    return cf_matrix\n"
      ]
    },
    {
      "cell_type": "markdown",
      "metadata": {
        "id": "0O1sMRVSw_1g"
      },
      "source": [
        "\n",
        "\n",
        "> Creating Dataset and initliasing GPU\n",
        "\n",
        "\n",
        "\n"
      ]
    },
    {
      "cell_type": "code",
      "execution_count": null,
      "metadata": {
        "id": "CU8b1i4bJbsI"
      },
      "outputs": [],
      "source": [
        "#Code checks for gpu and if so sets device to GPU\n",
        "device = torch.device(\"cuda:0\" if torch.cuda.is_available() else \"cpu\")"
      ]
    },
    {
      "cell_type": "code",
      "execution_count": null,
      "metadata": {
        "colab": {
          "base_uri": "https://localhost:8080/"
        },
        "id": "HN_XOoxJ2QyI",
        "outputId": "bca34819-748d-45ff-94f5-6168a0973c05"
      },
      "outputs": [
        {
          "data": {
            "text/plain": [
              "True"
            ]
          },
          "execution_count": 8,
          "metadata": {},
          "output_type": "execute_result"
        }
      ],
      "source": [
        "#Check that gpu is avaiable should print True\n",
        "torch.cuda.is_available()"
      ]
    },
    {
      "cell_type": "code",
      "execution_count": null,
      "metadata": {
        "colab": {
          "base_uri": "https://localhost:8080/"
        },
        "id": "HYNb6M8QKt29",
        "outputId": "61fd3fee-5dad-4c73-ec4a-f99fe2fe4c49"
      },
      "outputs": [
        {
          "name": "stdout",
          "output_type": "stream",
          "text": [
            "Warning: Your Kaggle API key is readable by other users on this system! To fix this, you can run 'chmod 600 /root/.kaggle/kaggle.json'\n",
            "Downloading histopathologic-cancer-detection.zip to .\n"
          ]
        },
        {
          "name": "stderr",
          "output_type": "stream",
          "text": [
            "100%|██████████| 6.31G/6.31G [00:56<00:00, 120MB/s]\n"
          ]
        },
        {
          "name": "stdout",
          "output_type": "stream",
          "text": [
            "\n",
            "Warning: Your Kaggle API key is readable by other users on this system! To fix this, you can run 'chmod 600 /root/.kaggle/kaggle.json'\n",
            "histopathologic-cancer-detection.zip: Skipping, found more recently modified local copy (use --force to force download)\n"
          ]
        }
      ],
      "source": [
        "#Creates dataset instance,train and test loaders\n",
        "train=HistopathologicCancerDetectionDataset(data_path='.')\n",
        "train_loader, test_loader=load_data(data_path='.',figsize=224,batch_size=32)"
      ]
    },
    {
      "cell_type": "markdown",
      "metadata": {
        "id": "Uhb59t7mx4au"
      },
      "source": [
        "Visualisation of one image to make sure data is loaded correctly "
      ]
    },
    {
      "cell_type": "code",
      "execution_count": null,
      "metadata": {
        "colab": {
          "base_uri": "https://localhost:8080/",
          "height": 269
        },
        "id": "5dXo_-9EMH8r",
        "outputId": "8282be5d-f468-4220-8388-779fcdda7ea0"
      },
      "outputs": [
        {
          "data": {
            "image/png": "[encoded data removed]",
            "text/plain": [
              "<Figure size 432x288 with 1 Axes>"
            ]
          },
          "metadata": {},
          "output_type": "display_data"
        }
      ],
      "source": [
        "import matplotlib.pyplot as plt\n",
        "s=(next(iter(train_loader))[0])#First element in dataloader is the image\n",
        "plt.imshow(s[0, :,:,:].permute(1, 2, 0)); #data loader returns 4d tensor with incorrect order of RGB "
      ]
    },
    {
      "cell_type": "markdown",
      "metadata": {
        "id": "9kiE31kOzsJ9"
      },
      "source": [
        "# Model and training "
      ]
    },
    {
      "cell_type": "markdown",
      "metadata": {
        "id": "_Kj5m7Gaz27H"
      },
      "source": [
        "### Resnet"
      ]
    },
    {
      "cell_type": "code",
      "execution_count": null,
      "metadata": {
        "colab": {
          "base_uri": "https://localhost:8080/",
          "height": 158,
          "referenced_widgets": [
            "fe20ca889df34f628010dee33a9e6ff7",
            "6fd08e07df28432697ee0196fd9fa03e",
            "4537ec58b3be47b684df5eb2fa1bb9c6",
            "8334c13ff77c48a39150d2641c89453e",
            "f77b2cb1b4344b29b3c38092cc17755a",
            "548ee2581a34470fb3bfa729bc1bf2da",
            "1889ede5e8064ddcb6b0728615b7c3b3",
            "94623789ea8f4b2cab96fba60cc56151",
            "dfd9d4c24dd641dc92ae2d877e4580bb",
            "6cad06ba87a64abda032508d796ee052",
            "c4f0cbdabb584593b3928702a7a7d41f"
          ]
        },
        "id": "Kzh-wSwoTvZd",
        "outputId": "ae946b99-4bf9-40aa-967e-8ad028da88e3"
      },
      "outputs": [
        {
          "name": "stderr",
          "output_type": "stream",
          "text": [
            "/usr/local/lib/python3.7/dist-packages/torchvision/models/_utils.py:209: UserWarning: The parameter 'pretrained' is deprecated since 0.13 and will be removed in 0.15, please use 'weights' instead.\n",
            "  f\"The parameter '{pretrained_param}' is deprecated since 0.13 and will be removed in 0.15, \"\n",
            "/usr/local/lib/python3.7/dist-packages/torchvision/models/_utils.py:223: UserWarning: Arguments other than a weight enum or `None` for 'weights' are deprecated since 0.13 and will be removed in 0.15. The current behavior is equivalent to passing `weights=ResNet18_Weights.IMAGENET1K_V1`. You can also use `weights=ResNet18_Weights.DEFAULT` to get the most up-to-date weights.\n",
            "  warnings.warn(msg)\n",
            "Downloading: \"https://download.pytorch.org/models/resnet18-f37072fd.pth\" to /root/.cache/torch/hub/checkpoints/resnet18-f37072fd.pth\n"
          ]
        },
        {
          "data": {
            "application/vnd.jupyter.widget-view+json": {
              "model_id": "fe20ca889df34f628010dee33a9e6ff7",
              "version_major": 2,
              "version_minor": 0
            },
            "text/plain": [
              "  0%|          | 0.00/44.7M [00:00<?, ?B/s]"
            ]
          },
          "metadata": {},
          "output_type": "display_data"
        }
      ],
      "source": [
        "import torch\n",
        "import torch.nn as nn\n",
        "import torch.optim as optim\n",
        "from torch.optim import lr_scheduler\n",
        "import torch.backends.cudnn as cudnn\n",
        "import numpy as np\n",
        "import torchvision\n",
        "from torchvision import datasets, models, transforms\n",
        "import matplotlib.pyplot as plt\n",
        "import time\n",
        "import os\n",
        "import copy\n",
        "from sklearn.metrics import confusion_matrix\n",
        "\n",
        "cudnn.benchmark = True\n",
        "model_resnet = models.resnet18(pretrained=True)#choosing the model\n",
        "num_ftrs = model_resnet.fc.in_features\n",
        "# Here the size of each output sample is set to 2.\n",
        "# Alternatively, it can be generalized to nn.Linear(num_ftrs, len(class_names)).\n",
        "model_resnet.fc = nn.Linear(num_ftrs, 2)\n",
        "\n",
        "model_resnet = model_resnet.to(device)#To train on GPU\n",
        "criterion = nn.CrossEntropyLoss()#Defined cross entropy loss\n",
        "\n",
        "# Observe that all parameters are being optimized\n",
        "optimizer_ft = optim.SGD(model_resnet.parameters(), lr=0.001, momentum=0.9)#choose which parameters to optimize and hyperparameters\n",
        "\n",
        "# Decay LR by a factor of 0.1 every 7 epochs\n",
        "exp_lr_scheduler = lr_scheduler.StepLR(optimizer_ft, step_size=7, gamma=0.1)"
      ]
    },
    {
      "cell_type": "code",
      "execution_count": null,
      "metadata": {
        "colab": {
          "background_save": true,
          "base_uri": "https://localhost:8080/"
        },
        "id": "Wp1nH4PCUpUF",
        "outputId": "011ec59b-5fde-4deb-c017-04aff253a7eb"
      },
      "outputs": [
        {
          "name": "stdout",
          "output_type": "stream",
          "text": [
            "Epoch 0/4\n",
            "----------\n",
            "train Loss: 6.2874 Acc: 0.9627\n",
            "train Sensitivity is 0.9310477787091366\n",
            "\n",
            "train specificity is 0.9842879442159354\n",
            "\n",
            "train precision is 0.975771312109073\n",
            "\n",
            "Confusion matrix [[86388  1379]\n",
            " [ 4113 55537]]\n",
            "val Loss: 4.1810 Acc: 0.9536\n",
            "val Sensitivity is 0.917195506838158\n",
            "\n",
            "val specificity is 0.9784196008437449\n",
            "\n",
            " val precision is 0.9667000500751126\n",
            "\n",
            "\n",
            "Confusion matrix [[42210   931]\n",
            " [ 2440 27027]]\n",
            "\n",
            "Epoch 1/4\n",
            "----------\n",
            "train Loss: 3.7644 Acc: 0.9763\n",
            "train Sensitivity is 0.9754903604358759\n",
            "\n",
            "train specificity is 0.9768022149555072\n",
            "\n",
            "train precision is 0.966192879914984\n",
            "\n",
            "Confusion matrix [[85731  2036]\n",
            " [ 1462 58188]]\n",
            "val Loss: 3.7739 Acc: 0.9585\n",
            "val Sensitivity is 0.9531679505887942\n",
            "\n",
            "val specificity is 0.9621241973992258\n",
            "\n",
            " val precision is 0.945022038289425\n",
            "\n",
            "\n",
            "Confusion matrix [[41507  1634]\n",
            " [ 1380 28087]]\n",
            "\n",
            "Epoch 2/4\n",
            "----------\n",
            "train Loss: 2.6105 Acc: 0.9893\n",
            "train Sensitivity is 0.9874098910310143\n",
            "\n",
            "train specificity is 0.9905887178552303\n",
            "\n",
            "train precision is 0.9861699455839263\n",
            "\n",
            "Confusion matrix [[86941   826]\n",
            " [  751 58899]]\n",
            "val Loss: 3.4196 Acc: 0.9635\n",
            "val Sensitivity is 0.9581905182068076\n",
            "\n",
            "val specificity is 0.967131035441923\n",
            "\n",
            " val precision is 0.9521802178531683\n",
            "\n",
            "\n",
            "Confusion matrix [[41723  1418]\n",
            " [ 1232 28235]]\n",
            "\n",
            "Epoch 3/4\n",
            "----------\n",
            "train Loss: 1.7665 Acc: 0.9923\n",
            "train Sensitivity is 0.9936462699077955\n",
            "\n",
            "train specificity is 0.9914432531589322\n",
            "\n",
            "train precision is 0.9874879210955982\n",
            "\n",
            "Confusion matrix [[87016   751]\n",
            " [  379 59271]]\n",
            "val Loss: 3.7664 Acc: 0.9622\n",
            "val Sensitivity is 0.9604642481419894\n",
            "\n",
            "val specificity is 0.9633527271041469\n",
            "\n",
            " val precision is 0.9470936652946491\n",
            "\n",
            "\n",
            "Confusion matrix [[41560  1581]\n",
            " [ 1165 28302]]\n",
            "\n",
            "Epoch 4/4\n",
            "----------\n",
            "train Loss: 1.1370 Acc: 0.9956\n",
            "train Sensitivity is 0.9967812238055322\n",
            "\n",
            "train specificity is 0.9947702439413447\n",
            "\n",
            "train precision is 0.9923394028405962\n",
            "\n",
            "Confusion matrix [[87308   459]\n",
            " [  192 59458]]\n",
            "val Loss: 3.9014 Acc: 0.9645\n",
            "val Sensitivity is 0.9613126548342213\n",
            "\n",
            "val specificity is 0.9666442595211052\n",
            "\n",
            " val precision is 0.951656252099711\n",
            "\n",
            "\n",
            "Confusion matrix [[41702  1439]\n",
            " [ 1140 28327]]\n",
            "\n",
            "Training complete in 141m 59s\n",
            "Best val Acc: 0.964480\n"
          ]
        }
      ],
      "source": [
        "#Actual resnet model training\n",
        "model_resnet = train_model(model_resnet, criterion, optimizer_ft, exp_lr_scheduler,train_loader, test_loader,num_epochs=5)"
      ]
    },
    {
      "cell_type": "code",
      "execution_count": null,
      "metadata": {
        "colab": {
          "background_save": true
        },
        "id": "34ghUi0TzVEi",
        "outputId": "db981452-87a7-4f3c-ad32-2bab0589d78b"
      },
      "outputs": [
        {
          "data": {
            "image/png": "[encoded data removed]",
            "text/plain": [
              "<Figure size 432x288 with 12 Axes>"
            ]
          },
          "metadata": {},
          "output_type": "display_data"
        }
      ],
      "source": [
        "visualize_model(model_resnet,test_loader,num_images=12)"
      ]
    },
    {
      "cell_type": "code",
      "execution_count": null,
      "metadata": {
        "colab": {
          "background_save": true
        },
        "id": "iJsq-E0UCdMb"
      },
      "outputs": [],
      "source": [
        "#save model\n",
        "torch.save(model_resnet.state_dict(), 'model_resnet')"
      ]
    },
    {
      "cell_type": "markdown",
      "metadata": {
        "id": "XNS6qlmU22lb"
      },
      "source": [
        "\n",
        "\n",
        "> VGG"
      ]
    },
    {
      "cell_type": "code",
      "execution_count": null,
      "metadata": {
        "colab": {
          "base_uri": "https://localhost:8080/",
          "height": 158,
          "referenced_widgets": [
            "f5f0e12e66bd4900ac19955d5b7c345b",
            "d0aa5d4887fb43acb6c821bb808e249a",
            "f93f164a5a55434e9a5aae412b16f05f",
            "2ca58c07148f4bc78e2fca3b44e986e1",
            "544b038388284b4b9c9d7e7cd7aa3d38",
            "939ef4b9a8314584b1799dce81a18a07",
            "cd20bc0203924e56aea528073fc8b6c8",
            "9bdb550796104d88a1bc1475e4659bf5",
            "353396f110fa4db7ba49d785a5a2cfea",
            "a47c111c91a04711b294f16ce268b04e",
            "b86acab3eb4c4ba894d99a7f8ee03034"
          ]
        },
        "id": "B7bckkBn288V",
        "outputId": "35631978-3532-4d5b-b702-67fa2b1dc5d4"
      },
      "outputs": [
        {
          "name": "stderr",
          "output_type": "stream",
          "text": [
            "/usr/local/lib/python3.7/dist-packages/torchvision/models/_utils.py:209: UserWarning: The parameter 'pretrained' is deprecated since 0.13 and will be removed in 0.15, please use 'weights' instead.\n",
            "  f\"The parameter '{pretrained_param}' is deprecated since 0.13 and will be removed in 0.15, \"\n",
            "/usr/local/lib/python3.7/dist-packages/torchvision/models/_utils.py:223: UserWarning: Arguments other than a weight enum or `None` for 'weights' are deprecated since 0.13 and will be removed in 0.15. The current behavior is equivalent to passing `weights=VGG16_Weights.IMAGENET1K_V1`. You can also use `weights=VGG16_Weights.DEFAULT` to get the most up-to-date weights.\n",
            "  warnings.warn(msg)\n",
            "Downloading: \"https://download.pytorch.org/models/vgg16-397923af.pth\" to /root/.cache/torch/hub/checkpoints/vgg16-397923af.pth\n"
          ]
        },
        {
          "data": {
            "application/vnd.jupyter.widget-view+json": {
              "model_id": "f5f0e12e66bd4900ac19955d5b7c345b",
              "version_major": 2,
              "version_minor": 0
            },
            "text/plain": [
              "  0%|          | 0.00/528M [00:00<?, ?B/s]"
            ]
          },
          "metadata": {},
          "output_type": "display_data"
        }
      ],
      "source": [
        "import torch\n",
        "import torch.nn as nn\n",
        "import torch.optim as optim\n",
        "from torch.optim import lr_scheduler\n",
        "import torch.backends.cudnn as cudnn\n",
        "import numpy as np\n",
        "import torchvision\n",
        "from torchvision import datasets, models, transforms\n",
        "import matplotlib.pyplot as plt\n",
        "import time\n",
        "import os\n",
        "import copy\n",
        "from sklearn.metrics import confusion_matrix\n",
        "cudnn.benchmark = True\n",
        "model_vgg16 = models.vgg16(pretrained=True)#choosing the model\n",
        "\n",
        "num_features = model_vgg16.classifier[6].in_features\n",
        "features = list(model_vgg16.classifier.children())[:-1] # Remove last layer\n",
        "features.extend([nn.Linear(num_features, 2)]) # Add our layer with 4 outputs\n",
        "model_vgg16.classifier = nn.Sequential(*features)\n",
        "model_vgg16 = model_vgg16.to(device)#To train on GPU\n",
        "criterion = nn.CrossEntropyLoss()#Defined cross entropy loss\n",
        "\n",
        "# Observe that all parameters are being optimized\n",
        "optimizer_ft = optim.SGD(model_vgg16.parameters(), lr=0.001, momentum=0.9)#choose which parameters to optimize and hyperparameters\n",
        "\n",
        "# Decay LR by a factor of 0.1 every 7 epochs\n",
        "exp_lr_scheduler = lr_scheduler.StepLR(optimizer_ft, step_size=7, gamma=0.1)"
      ]
    },
    {
      "cell_type": "code",
      "execution_count": null,
      "metadata": {
        "colab": {
          "base_uri": "https://localhost:8080/"
        },
        "id": "-mmpV6QG9rOH",
        "outputId": "8e14534e-b81c-4560-911e-6a0dd50bb41e"
      },
      "outputs": [
        {
          "name": "stdout",
          "output_type": "stream",
          "text": [
            "VGG(\n",
            "  (features): Sequential(\n",
            "    (0): Conv2d(3, 64, kernel_size=(3, 3), stride=(1, 1), padding=(1, 1))\n",
            "    (1): ReLU(inplace=True)\n",
            "    (2): Conv2d(64, 64, kernel_size=(3, 3), stride=(1, 1), padding=(1, 1))\n",
            "    (3): ReLU(inplace=True)\n",
            "    (4): MaxPool2d(kernel_size=2, stride=2, padding=0, dilation=1, ceil_mode=False)\n",
            "    (5): Conv2d(64, 128, kernel_size=(3, 3), stride=(1, 1), padding=(1, 1))\n",
            "    (6): ReLU(inplace=True)\n",
            "    (7): Conv2d(128, 128, kernel_size=(3, 3), stride=(1, 1), padding=(1, 1))\n",
            "    (8): ReLU(inplace=True)\n",
            "    (9): MaxPool2d(kernel_size=2, stride=2, padding=0, dilation=1, ceil_mode=False)\n",
            "    (10): Conv2d(128, 256, kernel_size=(3, 3), stride=(1, 1), padding=(1, 1))\n",
            "    (11): ReLU(inplace=True)\n",
            "    (12): Conv2d(256, 256, kernel_size=(3, 3), stride=(1, 1), padding=(1, 1))\n",
            "    (13): ReLU(inplace=True)\n",
            "    (14): Conv2d(256, 256, kernel_size=(3, 3), stride=(1, 1), padding=(1, 1))\n",
            "    (15): ReLU(inplace=True)\n",
            "    (16): MaxPool2d(kernel_size=2, stride=2, padding=0, dilation=1, ceil_mode=False)\n",
            "    (17): Conv2d(256, 512, kernel_size=(3, 3), stride=(1, 1), padding=(1, 1))\n",
            "    (18): ReLU(inplace=True)\n",
            "    (19): Conv2d(512, 512, kernel_size=(3, 3), stride=(1, 1), padding=(1, 1))\n",
            "    (20): ReLU(inplace=True)\n",
            "    (21): Conv2d(512, 512, kernel_size=(3, 3), stride=(1, 1), padding=(1, 1))\n",
            "    (22): ReLU(inplace=True)\n",
            "    (23): MaxPool2d(kernel_size=2, stride=2, padding=0, dilation=1, ceil_mode=False)\n",
            "    (24): Conv2d(512, 512, kernel_size=(3, 3), stride=(1, 1), padding=(1, 1))\n",
            "    (25): ReLU(inplace=True)\n",
            "    (26): Conv2d(512, 512, kernel_size=(3, 3), stride=(1, 1), padding=(1, 1))\n",
            "    (27): ReLU(inplace=True)\n",
            "    (28): Conv2d(512, 512, kernel_size=(3, 3), stride=(1, 1), padding=(1, 1))\n",
            "    (29): ReLU(inplace=True)\n",
            "    (30): MaxPool2d(kernel_size=2, stride=2, padding=0, dilation=1, ceil_mode=False)\n",
            "  )\n",
            "  (avgpool): AdaptiveAvgPool2d(output_size=(7, 7))\n",
            "  (classifier): Sequential(\n",
            "    (0): Linear(in_features=25088, out_features=4096, bias=True)\n",
            "    (1): ReLU(inplace=True)\n",
            "    (2): Dropout(p=0.5, inplace=False)\n",
            "    (3): Linear(in_features=4096, out_features=4096, bias=True)\n",
            "    (4): ReLU(inplace=True)\n",
            "    (5): Dropout(p=0.5, inplace=False)\n",
            "    (6): Linear(in_features=4096, out_features=2, bias=True)\n",
            "  )\n",
            ")\n"
          ]
        }
      ],
      "source": [
        "print(model_vgg16)"
      ]
    },
    {
      "cell_type": "code",
      "execution_count": null,
      "metadata": {
        "colab": {
          "background_save": true,
          "base_uri": "https://localhost:8080/"
        },
        "id": "Qt_xtHhh3JR6",
        "outputId": "ef46a282-dcab-44c5-a8a8-eaf769eeaa63"
      },
      "outputs": [
        {
          "name": "stdout",
          "output_type": "stream",
          "text": [
            "Epoch 0/4\n",
            "----------\n",
            "train Loss: 4.5745 Acc: 0.9603\n",
            "train Sensitivity is 0.9647739662836534\n",
            "\n",
            "train specificity is 0.9571877633766884\n",
            "\n",
            "train precision is 0.9386526095897118\n",
            "\n",
            "Confusion matrix [[84043  3759]\n",
            " [ 2100 57515]]\n",
            "val Loss: 4.2392 Acc: 0.9507\n",
            "val Sensitivity is 0.9544776625313538\n",
            "\n",
            "val specificity is 0.9480350763234816\n",
            "\n",
            " val precision is 0.9263133655712359\n",
            "\n",
            "\n",
            "Confusion matrix [[40866  2240]\n",
            " [ 1343 28159]]\n",
            "\n",
            "Epoch 1/4\n",
            "----------\n",
            "train Loss: 3.6212 Acc: 0.9647\n",
            "train Sensitivity is 0.9805753585507003\n",
            "\n",
            "train specificity is 0.9539532129108677\n",
            "\n",
            "train precision is 0.935312\n",
            "\n",
            "Confusion matrix [[83759  4043]\n",
            " [ 1158 58457]]\n",
            "val Loss: 4.3155 Acc: 0.9504\n",
            "val Sensitivity is 0.9667819130906379\n",
            "\n",
            "val specificity is 0.9392427968264279\n",
            "\n",
            " val precision is 0.9158986545069201\n",
            "\n",
            "\n",
            "Confusion matrix [[40487  2619]\n",
            " [  980 28522]]\n",
            "\n",
            "Epoch 2/4\n",
            "----------\n",
            "train Loss: 2.9182 Acc: 0.9777\n",
            "train Sensitivity is 0.9753753250020968\n",
            "\n",
            "train specificity is 0.9792601535272545\n",
            "\n",
            "train precision is 0.9696338046958378\n",
            "\n",
            "Confusion matrix [[85981  1821]\n",
            " [ 1468 58147]]\n",
            "val Loss: 3.6329 Acc: 0.9604\n",
            "val Sensitivity is 0.9542064944749509\n",
            "\n",
            "val specificity is 0.9646452929986544\n",
            "\n",
            " val precision is 0.9486436394271273\n",
            "\n",
            "\n",
            "Confusion matrix [[41582  1524]\n",
            " [ 1351 28151]]\n",
            "\n",
            "Epoch 3/4\n",
            "----------\n",
            "train Loss: 2.3218 Acc: 0.9813\n",
            "train Sensitivity is 0.9858592636081523\n",
            "\n",
            "train specificity is 0.9781553950935058\n",
            "\n",
            "train precision is 0.9683967704728951\n",
            "\n",
            "Confusion matrix [[85884  1918]\n",
            " [  843 58772]]\n",
            "val Loss: 3.7450 Acc: 0.9599\n",
            "val Sensitivity is 0.9649176327028676\n",
            "\n",
            "val specificity is 0.9565257736741984\n",
            "\n",
            " val precision is 0.9382353910550081\n",
            "\n",
            "\n",
            "Confusion matrix [[41232  1874]\n",
            " [ 1035 28467]]\n",
            "\n",
            "Epoch 4/4\n",
            "----------\n"
          ]
        }
      ],
      "source": [
        "model_vgg16 = train_model(model_vgg16, criterion, optimizer_ft, exp_lr_scheduler,train_loader, test_loader,num_epochs=5)"
      ]
    },
    {
      "cell_type": "code",
      "execution_count": null,
      "metadata": {
        "colab": {
          "base_uri": "https://localhost:8080/",
          "height": 169
        },
        "id": "QTwS8PuU94Jz",
        "outputId": "cdebeac4-1ddb-4123-c680-8313aaad31ba"
      },
      "outputs": [
        {
          "ename": "NameError",
          "evalue": "ignored",
          "output_type": "error",
          "traceback": [
            "\u001b[0;31m---------------------------------------------------------------------------\u001b[0m",
            "\u001b[0;31mNameError\u001b[0m                                 Traceback (most recent call last)",
            "\u001b[0;32m<ipython-input-1-93d23e4de74c>\u001b[0m in \u001b[0;36m<module>\u001b[0;34m()\u001b[0m\n\u001b[0;32m----> 1\u001b[0;31m \u001b[0mvisualize_model\u001b[0m\u001b[0;34m(\u001b[0m\u001b[0mmodel_vgg16\u001b[0m\u001b[0;34m,\u001b[0m\u001b[0mtest_loader\u001b[0m\u001b[0;34m,\u001b[0m\u001b[0mnum_images\u001b[0m\u001b[0;34m=\u001b[0m\u001b[0;36m6\u001b[0m\u001b[0;34m)\u001b[0m\u001b[0;34m\u001b[0m\u001b[0;34m\u001b[0m\u001b[0m\n\u001b[0m",
            "\u001b[0;31mNameError\u001b[0m: name 'visualize_model' is not defined"
          ]
        }
      ],
      "source": [
        "visualize_model(model_vgg16,test_loader,num_images=6)"
      ]
    },
    {
      "cell_type": "code",
      "execution_count": null,
      "metadata": {
        "id": "Xz3VC4tLbCER"
      },
      "outputs": [],
      "source": [
        "input = torch.randn(1, 3, 96, 96)\n",
        "out = net(input)\n",
        "print(out)"
      ]
    },
    {
      "cell_type": "code",
      "source": [
        ""
      ],
      "metadata": {
        "colab": {
          "base_uri": "https://localhost:8080/"
        },
        "id": "M38u1noZowam",
        "outputId": "32b5b73e-c60b-4975-efb2-a8901fe4d21e"
      },
      "execution_count": 16,
      "outputs": [
        {
          "output_type": "stream",
          "name": "stdout",
          "text": [
            "histopathologic-cancer-detection.zip  sample_submission.csv  train_labels.csv\n",
            "model_resnet\t\t\t      test\n",
            "sample_data\t\t\t      train\n"
          ]
        }
      ]
    }
  ],
  "metadata": {
    "accelerator": "GPU",
    "colab": {
      "collapsed_sections": [],
      "name": "DL Project",
      "provenance": []
    },
    "gpuClass": "standard",
    "kernelspec": {
      "display_name": "Python 3",
      "name": "python3"
    },
    "language_info": {
      "name": "python"
    },
    "widgets": {
      "application/vnd.jupyter.widget-state+json": {
        "1889ede5e8064ddcb6b0728615b7c3b3": {
          "model_module": "@jupyter-widgets/controls",
          "model_module_version": "1.5.0",
          "model_name": "DescriptionStyleModel",
          "state": {
            "_model_module": "@jupyter-widgets/controls",
            "_model_module_version": "1.5.0",
            "_model_name": "DescriptionStyleModel",
            "_view_count": null,
            "_view_module": "@jupyter-widgets/base",
            "_view_module_version": "1.2.0",
            "_view_name": "StyleView",
            "description_width": ""
          }
        },
        "2ca58c07148f4bc78e2fca3b44e986e1": {
          "model_module": "@jupyter-widgets/controls",
          "model_module_version": "1.5.0",
          "model_name": "HTMLModel",
          "state": {
            "_dom_classes": [],
            "_model_module": "@jupyter-widgets/controls",
            "_model_module_version": "1.5.0",
            "_model_name": "HTMLModel",
            "_view_count": null,
            "_view_module": "@jupyter-widgets/controls",
            "_view_module_version": "1.5.0",
            "_view_name": "HTMLView",
            "description": "",
            "description_tooltip": null,
            "layout": "IPY_MODEL_a47c111c91a04711b294f16ce268b04e",
            "placeholder": "​",
            "style": "IPY_MODEL_b86acab3eb4c4ba894d99a7f8ee03034",
            "value": " 528M/528M [00:02&lt;00:00, 197MB/s]"
          }
        },
        "353396f110fa4db7ba49d785a5a2cfea": {
          "model_module": "@jupyter-widgets/controls",
          "model_module_version": "1.5.0",
          "model_name": "ProgressStyleModel",
          "state": {
            "_model_module": "@jupyter-widgets/controls",
            "_model_module_version": "1.5.0",
            "_model_name": "ProgressStyleModel",
            "_view_count": null,
            "_view_module": "@jupyter-widgets/base",
            "_view_module_version": "1.2.0",
            "_view_name": "StyleView",
            "bar_color": null,
            "description_width": ""
          }
        },
        "4537ec58b3be47b684df5eb2fa1bb9c6": {
          "model_module": "@jupyter-widgets/controls",
          "model_module_version": "1.5.0",
          "model_name": "FloatProgressModel",
          "state": {
            "_dom_classes": [],
            "_model_module": "@jupyter-widgets/controls",
            "_model_module_version": "1.5.0",
            "_model_name": "FloatProgressModel",
            "_view_count": null,
            "_view_module": "@jupyter-widgets/controls",
            "_view_module_version": "1.5.0",
            "_view_name": "ProgressView",
            "bar_style": "success",
            "description": "",
            "description_tooltip": null,
            "layout": "IPY_MODEL_94623789ea8f4b2cab96fba60cc56151",
            "max": 46830571,
            "min": 0,
            "orientation": "horizontal",
            "style": "IPY_MODEL_dfd9d4c24dd641dc92ae2d877e4580bb",
            "value": 46830571
          }
        },
        "544b038388284b4b9c9d7e7cd7aa3d38": {
          "model_module": "@jupyter-widgets/base",
          "model_module_version": "1.2.0",
          "model_name": "LayoutModel",
          "state": {
            "_model_module": "@jupyter-widgets/base",
            "_model_module_version": "1.2.0",
            "_model_name": "LayoutModel",
            "_view_count": null,
            "_view_module": "@jupyter-widgets/base",
            "_view_module_version": "1.2.0",
            "_view_name": "LayoutView",
            "align_content": null,
            "align_items": null,
            "align_self": null,
            "border": null,
            "bottom": null,
            "display": null,
            "flex": null,
            "flex_flow": null,
            "grid_area": null,
            "grid_auto_columns": null,
            "grid_auto_flow": null,
            "grid_auto_rows": null,
            "grid_column": null,
            "grid_gap": null,
            "grid_row": null,
            "grid_template_areas": null,
            "grid_template_columns": null,
            "grid_template_rows": null,
            "height": null,
            "justify_content": null,
            "justify_items": null,
            "left": null,
            "margin": null,
            "max_height": null,
            "max_width": null,
            "min_height": null,
            "min_width": null,
            "object_fit": null,
            "object_position": null,
            "order": null,
            "overflow": null,
            "overflow_x": null,
            "overflow_y": null,
            "padding": null,
            "right": null,
            "top": null,
            "visibility": null,
            "width": null
          }
        },
        "548ee2581a34470fb3bfa729bc1bf2da": {
          "model_module": "@jupyter-widgets/base",
          "model_module_version": "1.2.0",
          "model_name": "LayoutModel",
          "state": {
            "_model_module": "@jupyter-widgets/base",
            "_model_module_version": "1.2.0",
            "_model_name": "LayoutModel",
            "_view_count": null,
            "_view_module": "@jupyter-widgets/base",
            "_view_module_version": "1.2.0",
            "_view_name": "LayoutView",
            "align_content": null,
            "align_items": null,
            "align_self": null,
            "border": null,
            "bottom": null,
            "display": null,
            "flex": null,
            "flex_flow": null,
            "grid_area": null,
            "grid_auto_columns": null,
            "grid_auto_flow": null,
            "grid_auto_rows": null,
            "grid_column": null,
            "grid_gap": null,
            "grid_row": null,
            "grid_template_areas": null,
            "grid_template_columns": null,
            "grid_template_rows": null,
            "height": null,
            "justify_content": null,
            "justify_items": null,
            "left": null,
            "margin": null,
            "max_height": null,
            "max_width": null,
            "min_height": null,
            "min_width": null,
            "object_fit": null,
            "object_position": null,
            "order": null,
            "overflow": null,
            "overflow_x": null,
            "overflow_y": null,
            "padding": null,
            "right": null,
            "top": null,
            "visibility": null,
            "width": null
          }
        },
        "6cad06ba87a64abda032508d796ee052": {
          "model_module": "@jupyter-widgets/base",
          "model_module_version": "1.2.0",
          "model_name": "LayoutModel",
          "state": {
            "_model_module": "@jupyter-widgets/base",
            "_model_module_version": "1.2.0",
            "_model_name": "LayoutModel",
            "_view_count": null,
            "_view_module": "@jupyter-widgets/base",
            "_view_module_version": "1.2.0",
            "_view_name": "LayoutView",
            "align_content": null,
            "align_items": null,
            "align_self": null,
            "border": null,
            "bottom": null,
            "display": null,
            "flex": null,
            "flex_flow": null,
            "grid_area": null,
            "grid_auto_columns": null,
            "grid_auto_flow": null,
            "grid_auto_rows": null,
            "grid_column": null,
            "grid_gap": null,
            "grid_row": null,
            "grid_template_areas": null,
            "grid_template_columns": null,
            "grid_template_rows": null,
            "height": null,
            "justify_content": null,
            "justify_items": null,
            "left": null,
            "margin": null,
            "max_height": null,
            "max_width": null,
            "min_height": null,
            "min_width": null,
            "object_fit": null,
            "object_position": null,
            "order": null,
            "overflow": null,
            "overflow_x": null,
            "overflow_y": null,
            "padding": null,
            "right": null,
            "top": null,
            "visibility": null,
            "width": null
          }
        },
        "6fd08e07df28432697ee0196fd9fa03e": {
          "model_module": "@jupyter-widgets/controls",
          "model_module_version": "1.5.0",
          "model_name": "HTMLModel",
          "state": {
            "_dom_classes": [],
            "_model_module": "@jupyter-widgets/controls",
            "_model_module_version": "1.5.0",
            "_model_name": "HTMLModel",
            "_view_count": null,
            "_view_module": "@jupyter-widgets/controls",
            "_view_module_version": "1.5.0",
            "_view_name": "HTMLView",
            "description": "",
            "description_tooltip": null,
            "layout": "IPY_MODEL_548ee2581a34470fb3bfa729bc1bf2da",
            "placeholder": "​",
            "style": "IPY_MODEL_1889ede5e8064ddcb6b0728615b7c3b3",
            "value": "100%"
          }
        },
        "8334c13ff77c48a39150d2641c89453e": {
          "model_module": "@jupyter-widgets/controls",
          "model_module_version": "1.5.0",
          "model_name": "HTMLModel",
          "state": {
            "_dom_classes": [],
            "_model_module": "@jupyter-widgets/controls",
            "_model_module_version": "1.5.0",
            "_model_name": "HTMLModel",
            "_view_count": null,
            "_view_module": "@jupyter-widgets/controls",
            "_view_module_version": "1.5.0",
            "_view_name": "HTMLView",
            "description": "",
            "description_tooltip": null,
            "layout": "IPY_MODEL_6cad06ba87a64abda032508d796ee052",
            "placeholder": "​",
            "style": "IPY_MODEL_c4f0cbdabb584593b3928702a7a7d41f",
            "value": " 44.7M/44.7M [00:00&lt;00:00, 89.3MB/s]"
          }
        },
        "939ef4b9a8314584b1799dce81a18a07": {
          "model_module": "@jupyter-widgets/base",
          "model_module_version": "1.2.0",
          "model_name": "LayoutModel",
          "state": {
            "_model_module": "@jupyter-widgets/base",
            "_model_module_version": "1.2.0",
            "_model_name": "LayoutModel",
            "_view_count": null,
            "_view_module": "@jupyter-widgets/base",
            "_view_module_version": "1.2.0",
            "_view_name": "LayoutView",
            "align_content": null,
            "align_items": null,
            "align_self": null,
            "border": null,
            "bottom": null,
            "display": null,
            "flex": null,
            "flex_flow": null,
            "grid_area": null,
            "grid_auto_columns": null,
            "grid_auto_flow": null,
            "grid_auto_rows": null,
            "grid_column": null,
            "grid_gap": null,
            "grid_row": null,
            "grid_template_areas": null,
            "grid_template_columns": null,
            "grid_template_rows": null,
            "height": null,
            "justify_content": null,
            "justify_items": null,
            "left": null,
            "margin": null,
            "max_height": null,
            "max_width": null,
            "min_height": null,
            "min_width": null,
            "object_fit": null,
            "object_position": null,
            "order": null,
            "overflow": null,
            "overflow_x": null,
            "overflow_y": null,
            "padding": null,
            "right": null,
            "top": null,
            "visibility": null,
            "width": null
          }
        },
        "94623789ea8f4b2cab96fba60cc56151": {
          "model_module": "@jupyter-widgets/base",
          "model_module_version": "1.2.0",
          "model_name": "LayoutModel",
          "state": {
            "_model_module": "@jupyter-widgets/base",
            "_model_module_version": "1.2.0",
            "_model_name": "LayoutModel",
            "_view_count": null,
            "_view_module": "@jupyter-widgets/base",
            "_view_module_version": "1.2.0",
            "_view_name": "LayoutView",
            "align_content": null,
            "align_items": null,
            "align_self": null,
            "border": null,
            "bottom": null,
            "display": null,
            "flex": null,
            "flex_flow": null,
            "grid_area": null,
            "grid_auto_columns": null,
            "grid_auto_flow": null,
            "grid_auto_rows": null,
            "grid_column": null,
            "grid_gap": null,
            "grid_row": null,
            "grid_template_areas": null,
            "grid_template_columns": null,
            "grid_template_rows": null,
            "height": null,
            "justify_content": null,
            "justify_items": null,
            "left": null,
            "margin": null,
            "max_height": null,
            "max_width": null,
            "min_height": null,
            "min_width": null,
            "object_fit": null,
            "object_position": null,
            "order": null,
            "overflow": null,
            "overflow_x": null,
            "overflow_y": null,
            "padding": null,
            "right": null,
            "top": null,
            "visibility": null,
            "width": null
          }
        },
        "9bdb550796104d88a1bc1475e4659bf5": {
          "model_module": "@jupyter-widgets/base",
          "model_module_version": "1.2.0",
          "model_name": "LayoutModel",
          "state": {
            "_model_module": "@jupyter-widgets/base",
            "_model_module_version": "1.2.0",
            "_model_name": "LayoutModel",
            "_view_count": null,
            "_view_module": "@jupyter-widgets/base",
            "_view_module_version": "1.2.0",
            "_view_name": "LayoutView",
            "align_content": null,
            "align_items": null,
            "align_self": null,
            "border": null,
            "bottom": null,
            "display": null,
            "flex": null,
            "flex_flow": null,
            "grid_area": null,
            "grid_auto_columns": null,
            "grid_auto_flow": null,
            "grid_auto_rows": null,
            "grid_column": null,
            "grid_gap": null,
            "grid_row": null,
            "grid_template_areas": null,
            "grid_template_columns": null,
            "grid_template_rows": null,
            "height": null,
            "justify_content": null,
            "justify_items": null,
            "left": null,
            "margin": null,
            "max_height": null,
            "max_width": null,
            "min_height": null,
            "min_width": null,
            "object_fit": null,
            "object_position": null,
            "order": null,
            "overflow": null,
            "overflow_x": null,
            "overflow_y": null,
            "padding": null,
            "right": null,
            "top": null,
            "visibility": null,
            "width": null
          }
        },
        "a47c111c91a04711b294f16ce268b04e": {
          "model_module": "@jupyter-widgets/base",
          "model_module_version": "1.2.0",
          "model_name": "LayoutModel",
          "state": {
            "_model_module": "@jupyter-widgets/base",
            "_model_module_version": "1.2.0",
            "_model_name": "LayoutModel",
            "_view_count": null,
            "_view_module": "@jupyter-widgets/base",
            "_view_module_version": "1.2.0",
            "_view_name": "LayoutView",
            "align_content": null,
            "align_items": null,
            "align_self": null,
            "border": null,
            "bottom": null,
            "display": null,
            "flex": null,
            "flex_flow": null,
            "grid_area": null,
            "grid_auto_columns": null,
            "grid_auto_flow": null,
            "grid_auto_rows": null,
            "grid_column": null,
            "grid_gap": null,
            "grid_row": null,
            "grid_template_areas": null,
            "grid_template_columns": null,
            "grid_template_rows": null,
            "height": null,
            "justify_content": null,
            "justify_items": null,
            "left": null,
            "margin": null,
            "max_height": null,
            "max_width": null,
            "min_height": null,
            "min_width": null,
            "object_fit": null,
            "object_position": null,
            "order": null,
            "overflow": null,
            "overflow_x": null,
            "overflow_y": null,
            "padding": null,
            "right": null,
            "top": null,
            "visibility": null,
            "width": null
          }
        },
        "b86acab3eb4c4ba894d99a7f8ee03034": {
          "model_module": "@jupyter-widgets/controls",
          "model_module_version": "1.5.0",
          "model_name": "DescriptionStyleModel",
          "state": {
            "_model_module": "@jupyter-widgets/controls",
            "_model_module_version": "1.5.0",
            "_model_name": "DescriptionStyleModel",
            "_view_count": null,
            "_view_module": "@jupyter-widgets/base",
            "_view_module_version": "1.2.0",
            "_view_name": "StyleView",
            "description_width": ""
          }
        },
        "c4f0cbdabb584593b3928702a7a7d41f": {
          "model_module": "@jupyter-widgets/controls",
          "model_module_version": "1.5.0",
          "model_name": "DescriptionStyleModel",
          "state": {
            "_model_module": "@jupyter-widgets/controls",
            "_model_module_version": "1.5.0",
            "_model_name": "DescriptionStyleModel",
            "_view_count": null,
            "_view_module": "@jupyter-widgets/base",
            "_view_module_version": "1.2.0",
            "_view_name": "StyleView",
            "description_width": ""
          }
        },
        "cd20bc0203924e56aea528073fc8b6c8": {
          "model_module": "@jupyter-widgets/controls",
          "model_module_version": "1.5.0",
          "model_name": "DescriptionStyleModel",
          "state": {
            "_model_module": "@jupyter-widgets/controls",
            "_model_module_version": "1.5.0",
            "_model_name": "DescriptionStyleModel",
            "_view_count": null,
            "_view_module": "@jupyter-widgets/base",
            "_view_module_version": "1.2.0",
            "_view_name": "StyleView",
            "description_width": ""
          }
        },
        "d0aa5d4887fb43acb6c821bb808e249a": {
          "model_module": "@jupyter-widgets/controls",
          "model_module_version": "1.5.0",
          "model_name": "HTMLModel",
          "state": {
            "_dom_classes": [],
            "_model_module": "@jupyter-widgets/controls",
            "_model_module_version": "1.5.0",
            "_model_name": "HTMLModel",
            "_view_count": null,
            "_view_module": "@jupyter-widgets/controls",
            "_view_module_version": "1.5.0",
            "_view_name": "HTMLView",
            "description": "",
            "description_tooltip": null,
            "layout": "IPY_MODEL_939ef4b9a8314584b1799dce81a18a07",
            "placeholder": "​",
            "style": "IPY_MODEL_cd20bc0203924e56aea528073fc8b6c8",
            "value": "100%"
          }
        },
        "dfd9d4c24dd641dc92ae2d877e4580bb": {
          "model_module": "@jupyter-widgets/controls",
          "model_module_version": "1.5.0",
          "model_name": "ProgressStyleModel",
          "state": {
            "_model_module": "@jupyter-widgets/controls",
            "_model_module_version": "1.5.0",
            "_model_name": "ProgressStyleModel",
            "_view_count": null,
            "_view_module": "@jupyter-widgets/base",
            "_view_module_version": "1.2.0",
            "_view_name": "StyleView",
            "bar_color": null,
            "description_width": ""
          }
        },
        "f5f0e12e66bd4900ac19955d5b7c345b": {
          "model_module": "@jupyter-widgets/controls",
          "model_module_version": "1.5.0",
          "model_name": "HBoxModel",
          "state": {
            "_dom_classes": [],
            "_model_module": "@jupyter-widgets/controls",
            "_model_module_version": "1.5.0",
            "_model_name": "HBoxModel",
            "_view_count": null,
            "_view_module": "@jupyter-widgets/controls",
            "_view_module_version": "1.5.0",
            "_view_name": "HBoxView",
            "box_style": "",
            "children": [
              "IPY_MODEL_d0aa5d4887fb43acb6c821bb808e249a",
              "IPY_MODEL_f93f164a5a55434e9a5aae412b16f05f",
              "IPY_MODEL_2ca58c07148f4bc78e2fca3b44e986e1"
            ],
            "layout": "IPY_MODEL_544b038388284b4b9c9d7e7cd7aa3d38"
          }
        },
        "f77b2cb1b4344b29b3c38092cc17755a": {
          "model_module": "@jupyter-widgets/base",
          "model_module_version": "1.2.0",
          "model_name": "LayoutModel",
          "state": {
            "_model_module": "@jupyter-widgets/base",
            "_model_module_version": "1.2.0",
            "_model_name": "LayoutModel",
            "_view_count": null,
            "_view_module": "@jupyter-widgets/base",
            "_view_module_version": "1.2.0",
            "_view_name": "LayoutView",
            "align_content": null,
            "align_items": null,
            "align_self": null,
            "border": null,
            "bottom": null,
            "display": null,
            "flex": null,
            "flex_flow": null,
            "grid_area": null,
            "grid_auto_columns": null,
            "grid_auto_flow": null,
            "grid_auto_rows": null,
            "grid_column": null,
            "grid_gap": null,
            "grid_row": null,
            "grid_template_areas": null,
            "grid_template_columns": null,
            "grid_template_rows": null,
            "height": null,
            "justify_content": null,
            "justify_items": null,
            "left": null,
            "margin": null,
            "max_height": null,
            "max_width": null,
            "min_height": null,
            "min_width": null,
            "object_fit": null,
            "object_position": null,
            "order": null,
            "overflow": null,
            "overflow_x": null,
            "overflow_y": null,
            "padding": null,
            "right": null,
            "top": null,
            "visibility": null,
            "width": null
          }
        },
        "f93f164a5a55434e9a5aae412b16f05f": {
          "model_module": "@jupyter-widgets/controls",
          "model_module_version": "1.5.0",
          "model_name": "FloatProgressModel",
          "state": {
            "_dom_classes": [],
            "_model_module": "@jupyter-widgets/controls",
            "_model_module_version": "1.5.0",
            "_model_name": "FloatProgressModel",
            "_view_count": null,
            "_view_module": "@jupyter-widgets/controls",
            "_view_module_version": "1.5.0",
            "_view_name": "ProgressView",
            "bar_style": "success",
            "description": "",
            "description_tooltip": null,
            "layout": "IPY_MODEL_9bdb550796104d88a1bc1475e4659bf5",
            "max": 553433881,
            "min": 0,
            "orientation": "horizontal",
            "style": "IPY_MODEL_353396f110fa4db7ba49d785a5a2cfea",
            "value": 553433881
          }
        },
        "fe20ca889df34f628010dee33a9e6ff7": {
          "model_module": "@jupyter-widgets/controls",
          "model_module_version": "1.5.0",
          "model_name": "HBoxModel",
          "state": {
            "_dom_classes": [],
            "_model_module": "@jupyter-widgets/controls",
            "_model_module_version": "1.5.0",
            "_model_name": "HBoxModel",
            "_view_count": null,
            "_view_module": "@jupyter-widgets/controls",
            "_view_module_version": "1.5.0",
            "_view_name": "HBoxView",
            "box_style": "",
            "children": [
              "IPY_MODEL_6fd08e07df28432697ee0196fd9fa03e",
              "IPY_MODEL_4537ec58b3be47b684df5eb2fa1bb9c6",
              "IPY_MODEL_8334c13ff77c48a39150d2641c89453e"
            ],
            "layout": "IPY_MODEL_f77b2cb1b4344b29b3c38092cc17755a"
          }
        }
      }
    }
  },
  "nbformat": 4,
  "nbformat_minor": 0
}