{
  "cells": [
    {
      "cell_type": "markdown",
      "metadata": {
        "id": "J_OJXwJnxA3t"
      },
      "source": [
        "\n",
        "\n",
        "# Data Loading\n",
        "\n"
      ]
    },
    {
      "cell_type": "code",
      "execution_count": null,
      "metadata": {
        "id": "S_zDff7oXeCg",
        "colab": {
          "base_uri": "https://localhost:8080/"
        },
        "outputId": "5f83caf8-c603-4d36-82a4-14199a4fd006"
      },
      "outputs": [
        {
          "output_type": "stream",
          "name": "stdout",
          "text": [
            "Warning: Your Kaggle API key is readable by other users on this system! To fix this, you can run 'chmod 600 /root/.kaggle/kaggle.json'\n"
          ]
        }
      ],
      "source": [
        "from more_itertools import unzip\n",
        "from torch.utils.data import DataLoader, Dataset, random_split\n",
        "import kaggle\n",
        "import zipfile\n",
        "import pandas as pd\n",
        "import os\n",
        "from PIL import Image\n",
        "from yaml import load\n",
        "from torchvision import transforms\n",
        "import pandas as pd\n",
        "import numpy as np\n",
        "import torch\n",
        "\n",
        "class HistopathologicCancerDetectionDataset(Dataset):\n",
        "    KAGGLE_DATASET = \"histopathologic-cancer-detection\"\n",
        "\n",
        "    def __init__(self, data_path,figsize=224):\n",
        "        self.data_path = data_path\n",
        "        self._download()\n",
        "        self.train_labels = pd.read_csv(\n",
        "            os.path.join(self.data_path, \"train_labels.csv\")\n",
        "        )\n",
        "        self.transforms = transforms.Compose([transforms.Resize(figsize),\n",
        "                                              transforms.ToTensor()],\n",
        "                                             )\n",
        "        *(\n",
        "                [\n",
        "                    transforms.RandomApply(\n",
        "                        [\n",
        "                            transforms.ColorJitter(brightness=0.5),\n",
        "                            transforms.ColorJitter(contrast=0.5),\n",
        "                            transforms.ColorJitter(saturation=0.5),\n",
        "                            transforms.ColorJitter(hue=0.5),\n",
        "                        ],\n",
        "                        0.5,\n",
        "                    )\n",
        "                ]\n",
        "            ),\n",
        "            *(\n",
        "                [\n",
        "                    transforms.RandomApply(\n",
        "                        [\n",
        "                            transforms.RandomRotation((0, 0)),\n",
        "                            transforms.RandomHorizontalFlip(p=1),\n",
        "                            transforms.RandomVerticalFlip(p=1),\n",
        "                            transforms.RandomRotation((90, 90)),\n",
        "                            transforms.RandomRotation((180, 180)),\n",
        "                            transforms.RandomRotation((270, 270)),\n",
        "                        ],\n",
        "                        0.5,\n",
        "                    )\n",
        "                ]\n",
        "            ),\n",
        "                                              \n",
        "\n",
        "    def __len__(self):\n",
        "        return len(self.train_labels)\n",
        "\n",
        "    def __getitem__(self, index):\n",
        "        image_id = self.train_labels[\"id\"].iloc[index]\n",
        "        label = self.train_labels[\"label\"].iloc[index]\n",
        "        img = Image.open(os.path.join(self.data_path, \"train\", image_id + \".tif\"))\n",
        "        return self.transforms(img), label\n",
        "\n",
        "    def _download(self):\n",
        "        kaggle.api.authenticate()\n",
        "        kaggle.api.competition_download_files(\n",
        "            self.KAGGLE_DATASET, path=self.data_path, quiet=False\n",
        "        )\n",
        "        # Only unzip if we cannot find certain files\n",
        "        if not set([\"train\", \"train_labels.csv\"]).issubset(os.listdir(self.data_path)):\n",
        "            with zipfile.ZipFile(\n",
        "                os.path.join(self.data_path, self.KAGGLE_DATASET + \".zip\")\n",
        "            ) as zipped:\n",
        "                zipped.extractall(self.data_path)\n",
        "\n",
        "\n",
        "def load_data(data_path=None,figsize=224 ,test_split=0.33, batch_size=32):\n",
        "    \"\"\"\n",
        "    Downloads the dataset from Kaggle if needed, creates a Pytorch Dataset and then\n",
        "    setups data loaders for the training and test set.\n",
        "\n",
        "    Required setup:\n",
        "    1. Go to https://www.kaggle.com/<ACCOUNT_NAME>/account\n",
        "    2. Click \"Create New API Token\"\n",
        "    3. Add Token file to ~/.kaggle/kaggle.json\n",
        "    \"\"\"\n",
        "    if not data_path:\n",
        "        data_path = os.path.join(os.path.dirname(os.path.realpath(__file__)), \"data\")\n",
        "    dataset = HistopathologicCancerDetectionDataset(data_path,figsize)\n",
        "    test_size = int(len(dataset) * test_split)\n",
        "    train_size = len(dataset) - test_size\n",
        "    train_set, test_set = random_split(dataset, [train_size, test_size])\n",
        "    train_loader = DataLoader(train_set, shuffle=True, batch_size=batch_size)\n",
        "    test_loader = DataLoader(test_set, batch_size=batch_size)\n",
        "    return train_loader, test_loader"
      ]
    },
    {
      "cell_type": "code",
      "execution_count": null,
      "metadata": {
        "id": "4E5h5dRGFHKv"
      },
      "outputs": [],
      "source": []
    },
    {
      "cell_type": "markdown",
      "metadata": {
        "id": "vEWLAhAjx_Rq"
      },
      "source": [
        "Train Model Code"
      ]
    },
    {
      "cell_type": "code",
      "execution_count": null,
      "metadata": {
        "id": "F40RUzdnMyq1"
      },
      "outputs": [],
      "source": [
        "def train_model(model, criterion, optimizer, scheduler,train_loader,val_loader, num_epochs=25):\n",
        "    '''\n",
        "    Function to train the model \n",
        "    '''\n",
        "    since = time.time()\n",
        "\n",
        "    best_model_wts = copy.deepcopy(model.state_dict())\n",
        "    best_acc = 0.0\n",
        "\n",
        "    for epoch in range(num_epochs):\n",
        "        print(f'Epoch {epoch}/{num_epochs - 1}')\n",
        "        print('-' * 10)\n",
        "\n",
        "        # Each epoch has a training and validation phase\n",
        "        for phase in ['train', 'val']:\n",
        "            if phase == 'train':\n",
        "                model.train()\n",
        "                loader=train_loader# Set model to training mode and choose the correct dataloader\n",
        "            else:\n",
        "                model.eval() \n",
        "                loader=val_loader# Set model to evaluate mode and choose the correct dataloader\n",
        "\n",
        "            running_loss = 0.0\n",
        "            running_corrects = 0\n",
        "\n",
        "            # Iterate over data.\n",
        "            for s in loader:\n",
        "                #To(device) transfers the image is on the GPU\n",
        "                inputs = s[0].to(device)#zeros element here refers to image\n",
        "                \n",
        "                #casting labels to long as float doesn't work to train the resnet\n",
        "                \n",
        "                labels = (s[1]).type(torch.LongTensor)# first element is the label\n",
        "                labels = labels.to(device)\n",
        "                \n",
        "\n",
        "                # zero the parameter gradients\n",
        "                optimizer.zero_grad()\n",
        "\n",
        "                # forward\n",
        "                # track history if only in train\n",
        "                with torch.set_grad_enabled(phase == 'train'):\n",
        "                    outputs = model(inputs)\n",
        "                    _, preds = torch.max(outputs, 1)\n",
        "                    loss = criterion(outputs, labels)\n",
        "\n",
        "                    # backward + optimize only if in training phase\n",
        "                    if phase == 'train':\n",
        "                        loss.backward()\n",
        "                        optimizer.step()\n",
        "\n",
        "                # statistics\n",
        "                running_loss += loss.item() * inputs.size(0)\n",
        "                running_corrects += torch.sum(preds == labels.data)\n",
        "            if phase == 'train':\n",
        "                scheduler.step()\n",
        "\n",
        "            epoch_loss = running_loss / len(loader)\n",
        "            if(phase== 'train'):\n",
        "                _,cf_matrix,_=evaluate_model(model,train_loader)\n",
        "                tn, fp, fn, tp = cf_matrix.ravel()\n",
        "                specificity=tn/(tn+fp)\n",
        "                sensitivity=tp/(tp+fn)\n",
        "                precision=tp/(tp+fp)\n",
        "                epoch_acc=(tp + tn) / (tp + fn + fp + tn)\n",
        "                print(f'{phase} Loss: {epoch_loss:.4f} Acc: {epoch_acc:.4f}')\n",
        "                print('train Sensitivity is {}'.format(sensitivity))\n",
        "                print()\n",
        "                print('train specificity is {}'.format(specificity))\n",
        "                print()\n",
        "                print('train precision is {}'.format(precision))\n",
        "                print()\n",
        "                print('Confusion matrix {}'.format(cf_matrix))\n",
        "                metrics={\"train_loss\": epoch_loss, \n",
        "                         \"train_accuracy\":epoch_acc,\n",
        "                        \"train_Sensitivity \": sensitivity,\n",
        "                        \"train_precision \":precision,\n",
        "                        \"train_specificity \":(specificity),\n",
        "                         \n",
        "                        }\n",
        "                \n",
        "                \n",
        "            else:\n",
        "                _,cf_matrix,_=evaluate_model(model,val_loader)\n",
        "                tn, fp, fn, tp = cf_matrix.ravel()\n",
        "                specificity=tn/(tn+fp)\n",
        "                sensitivity=tp/(tp+fn)\n",
        "                precision=tp/(tp+fp)\n",
        "                epoch_acc=(tp + tn) / (tp + fn + fp + tn)\n",
        "                print(f'{phase} Loss: {epoch_loss:.4f} Acc: {epoch_acc:.4f}')\n",
        "                print('val Sensitivity is {}'.format(sensitivity))\n",
        "                print()\n",
        "                print('val specificity is {}'.format(specificity))\n",
        "                print()\n",
        "                print(' val precision is {}'.format(precision))\n",
        "                print()\n",
        "\n",
        "                print()\n",
        "                print('Confusion matrix {}'.format(cf_matrix))\n",
        "                metrics={\"val_loss\": epoch_loss, \n",
        "                         \"val_accuracy\":epoch_acc,\n",
        "                        \"val_Sensitivity \": sensitivity,\n",
        "                        \"val_precision \":precision,\n",
        "                        \"val_specificity \":(specificity),\n",
        "                         \n",
        "                        }\n",
        "                \n",
        "            #wandb.log({**metrics})\n",
        "            #Calculate classification metrics\n",
        "\n",
        "            # deep copy the model\n",
        "            if phase == 'val' and epoch_acc > best_acc:\n",
        "                best_acc = epoch_acc\n",
        "                best_model_wts = copy.deepcopy(model.state_dict())\n",
        "\n",
        "        print()\n",
        "\n",
        "    time_elapsed = time.time() - since\n",
        "    print(f'Training complete in {time_elapsed // 60:.0f}m {time_elapsed % 60:.0f}s')\n",
        "    print(f'Best val Acc: {best_acc:4f}')\n",
        "\n",
        "    # load best model weights\n",
        "    model.load_state_dict(best_model_wts)\n",
        "    return model"
      ]
    },
    {
      "cell_type": "code",
      "execution_count": null,
      "metadata": {
        "id": "Xn0a1GDXTrLG"
      },
      "outputs": [],
      "source": [
        "def visualize_model(model,test_loader,num_images=6):\n",
        "    '''\n",
        "    Function to visualize the output of the model\n",
        "    '''\n",
        "    was_training = model.training\n",
        "    model.eval()\n",
        "    images_so_far = 0\n",
        "    fig = plt.figure()\n",
        "\n",
        "    with torch.no_grad():\n",
        "        for i, s in enumerate(test_loader):\n",
        "            inputs = s[0].to(device)\n",
        "            #concat the input to change to 3 channels\n",
        "            #casting labels to long as float doesn't work to train the resnet\n",
        "            labels = (s[1]).type(torch.LongTensor)\n",
        "            labels = labels.to(device)\n",
        "\n",
        "            outputs = model(inputs)\n",
        "            _, preds = torch.max(outputs, 1)\n",
        "           \n",
        "\n",
        "            for j in range(inputs.size()[0]):\n",
        "                images_so_far += 1\n",
        "                ax = plt.subplot(num_images//2, 2, images_so_far)\n",
        "                ax.axis('off')\n",
        "                ax.set_title(f'predicted: {preds[j]} True label: {labels[j]}')\n",
        "                #spliting x to visualize output to undo concat\n",
        "                x=torch.split(inputs.cpu().data[j],3, dim=0)[0][0]\n",
        "                plt.imshow(x)\n",
        "\n",
        "                if images_so_far == num_images:\n",
        "                    model.train(mode=was_training)\n",
        "                    return\n",
        "        model.train(mode=was_training)"
      ]
    },
    {
      "cell_type": "code",
      "execution_count": null,
      "metadata": {
        "id": "ItU6COa86YUr"
      },
      "outputs": [],
      "source": [
        "def evaluate_model(model,val_loader):\n",
        "    '''\n",
        "    Method to check the model preformance per different classification metrics and get predicated probability back \n",
        "    '''\n",
        "    was_training = model.training\n",
        "    model.eval()\n",
        "    y_pred = []\n",
        "    y_prob = []\n",
        "    y_true = []\n",
        "    CM=0\n",
        "    with torch.no_grad():\n",
        "        for i, s in enumerate(val_loader):\n",
        "            inputs = s['image'].to(device)\n",
        "\n",
        "            #casting labels to long as float doesn't work to train the resnet\n",
        "            labels = (s['CDGLOBAL']).type(torch.LongTensor)\n",
        "            outputs = model(inputs)\n",
        "            _, preds = torch.max(outputs, 1)\n",
        "            y_pred.extend(preds.data.cpu().numpy())\n",
        "\n",
        "            prob = torch.sigmoid(outputs)[:,1] #Get class1 probabilities\n",
        "            y_prob.extend(prob.data.cpu().numpy())\n",
        "            y_true.extend(labels.data.cpu().numpy())\n",
        "            \n",
        "    cf_matrix = confusion_matrix(y_true, y_pred)   \n",
        "    return y_true ,cf_matrix, y_prob"
      ]
    },
    {
      "cell_type": "markdown",
      "metadata": {
        "id": "0O1sMRVSw_1g"
      },
      "source": [
        "\n",
        "\n",
        "> Creating Dataset and initliasing GPU\n",
        "\n",
        "\n",
        "\n"
      ]
    },
    {
      "cell_type": "code",
      "execution_count": null,
      "metadata": {
        "id": "CU8b1i4bJbsI"
      },
      "outputs": [],
      "source": [
        "#Code checks for gpu and if so sets device to GPU\n",
        "device = torch.device(\"cuda:0\" if torch.cuda.is_available() else \"cpu\")"
      ]
    },
    {
      "cell_type": "code",
      "execution_count": null,
      "metadata": {
        "colab": {
          "base_uri": "https://localhost:8080/"
        },
        "id": "HN_XOoxJ2QyI",
        "outputId": "7d54b896-99e1-4a3f-f481-be5f3304608a"
      },
      "outputs": [
        {
          "output_type": "execute_result",
          "data": {
            "text/plain": [
              "True"
            ]
          },
          "metadata": {},
          "execution_count": 7
        }
      ],
      "source": [
        "#Check that gpu is avaiable should print True\n",
        "torch.cuda.is_available()"
      ]
    },
    {
      "cell_type": "code",
      "execution_count": null,
      "metadata": {
        "colab": {
          "base_uri": "https://localhost:8080/"
        },
        "id": "HYNb6M8QKt29",
        "outputId": "14044b35-4bb1-40d2-bb13-e23244126f40"
      },
      "outputs": [
        {
          "output_type": "stream",
          "name": "stdout",
          "text": [
            "Warning: Your Kaggle API key is readable by other users on this system! To fix this, you can run 'chmod 600 /root/.kaggle/kaggle.json'\n",
            "Downloading histopathologic-cancer-detection.zip to .\n"
          ]
        },
        {
          "output_type": "stream",
          "name": "stderr",
          "text": [
            "100%|██████████| 6.31G/6.31G [01:48<00:00, 62.7MB/s]\n"
          ]
        },
        {
          "output_type": "stream",
          "name": "stdout",
          "text": [
            "\n",
            "Warning: Your Kaggle API key is readable by other users on this system! To fix this, you can run 'chmod 600 /root/.kaggle/kaggle.json'\n",
            "histopathologic-cancer-detection.zip: Skipping, found more recently modified local copy (use --force to force download)\n"
          ]
        }
      ],
      "source": [
        "#Creates dataset instance,train and test loaders\n",
        "train=HistopathologicCancerDetectionDataset(data_path='.')\n",
        "train_loader, test_loader=load_data(data_path='.',figsize=224,batch_size=32)"
      ]
    },
    {
      "cell_type": "markdown",
      "metadata": {
        "id": "Uhb59t7mx4au"
      },
      "source": [
        "Visualisation of one image to make sure data is loaded correctly "
      ]
    },
    {
      "cell_type": "code",
      "execution_count": null,
      "metadata": {
        "colab": {
          "base_uri": "https://localhost:8080/",
          "height": 269
        },
        "id": "5dXo_-9EMH8r",
        "outputId": "16fed8dc-5155-4511-f656-65e57fd57e8c"
      },
      "outputs": [
        {
          "data": {
            "image/png": "[encoded data removed]",
            "text/plain": [
              "<Figure size 432x288 with 1 Axes>"
            ]
          },
          "metadata": {},
          "output_type": "display_data"
        }
      ],
      "source": [
        "import matplotlib.pyplot as plt\n",
        "s=(next(iter(train_loader))[0])#First element in dataloader is the image\n",
        "plt.imshow(s[0, :,:,:].permute(1, 2, 0)); #data loader returns 4d tensor with incorrect order of RGB "
      ]
    },
    {
      "cell_type": "markdown",
      "metadata": {
        "id": "9kiE31kOzsJ9"
      },
      "source": [
        "# Model and training "
      ]
    },
    {
      "cell_type": "markdown",
      "metadata": {
        "id": "_Kj5m7Gaz27H"
      },
      "source": [
        "### Resnet"
      ]
    },
    {
      "cell_type": "code",
      "execution_count": null,
      "metadata": {
        "colab": {
          "base_uri": "https://localhost:8080/",
          "height": 158,
          "referenced_widgets": [
            "5f61e5d4b8814944b7c8d68548c0e13b",
            "a48638f9242f430a90e1f9ae3d5237af",
            "9c96fd1957894f4fa585ba9e96e3545f",
            "f73ac9b030084115afa45db2f93988cb",
            "f705450101bd48afb83e363a484c14dc",
            "36d1f97eb13c41d7bd07b93581a7db16",
            "0a5f4fa5d73443cc81ddfc24e8fe2df5",
            "7f7b487b26bd443f950b98d75138454c",
            "ac8ad4acd55a4ba9ae8e24ff8e3373c1",
            "c8ba1353b89a40a3a82976b5e145960e",
            "bb6cb1184e564b4497b9da8478fd25d7"
          ]
        },
        "id": "Kzh-wSwoTvZd",
        "outputId": "35482bd7-98a5-4700-a2fe-d2f1afc17326"
      },
      "outputs": [
        {
          "name": "stderr",
          "output_type": "stream",
          "text": [
            "/usr/local/lib/python3.7/dist-packages/torchvision/models/_utils.py:209: UserWarning: The parameter 'pretrained' is deprecated since 0.13 and will be removed in 0.15, please use 'weights' instead.\n",
            "  f\"The parameter '{pretrained_param}' is deprecated since 0.13 and will be removed in 0.15, \"\n",
            "/usr/local/lib/python3.7/dist-packages/torchvision/models/_utils.py:223: UserWarning: Arguments other than a weight enum or `None` for 'weights' are deprecated since 0.13 and will be removed in 0.15. The current behavior is equivalent to passing `weights=ResNet18_Weights.IMAGENET1K_V1`. You can also use `weights=ResNet18_Weights.DEFAULT` to get the most up-to-date weights.\n",
            "  warnings.warn(msg)\n",
            "Downloading: \"https://download.pytorch.org/models/resnet18-f37072fd.pth\" to /root/.cache/torch/hub/checkpoints/resnet18-f37072fd.pth\n"
          ]
        },
        {
          "data": {
            "application/vnd.jupyter.widget-view+json": {
              "model_id": "5f61e5d4b8814944b7c8d68548c0e13b",
              "version_major": 2,
              "version_minor": 0
            },
            "text/plain": [
              "  0%|          | 0.00/44.7M [00:00<?, ?B/s]"
            ]
          },
          "metadata": {},
          "output_type": "display_data"
        }
      ],
      "source": [
        "import torch\n",
        "import torch.nn as nn\n",
        "import torch.optim as optim\n",
        "from torch.optim import lr_scheduler\n",
        "import torch.backends.cudnn as cudnn\n",
        "import numpy as np\n",
        "import torchvision\n",
        "from torchvision import datasets, models, transforms\n",
        "import matplotlib.pyplot as plt\n",
        "import time\n",
        "import os\n",
        "import copy\n",
        "from sklearn.metrics import confusion_matrix\n",
        "lr=0.001 \n",
        "c=0.9\n",
        "step_size=7 \n",
        "gamma=0.1\n",
        "epochs=10\n",
        "batch_size=32\n",
        "cudnn.benchmark = True\n",
        "model_resnet = models.resnet18(pretrained=True)#choosing the model\n",
        "num_ftrs = model_resnet.fc.in_features\n",
        "# Here the size of each output sample is set to 2.\n",
        "# Alternatively, it can be generalized to nn.Linear(num_ftrs, len(class_names)).\n",
        "model_resnet.fc = nn.Linear(num_ftrs, 2)\n",
        "\n",
        "model_resnet = model_resnet.to(device)#To train on GPU\n",
        "criterion = nn.CrossEntropyLoss()#Defined cross entropy loss\n",
        "\n",
        "# Observe that all parameters are being optimized\n",
        "optimizer_ft = optim.SGD(model_resnet.parameters(), lr=lr, momentum=momentum)#choose which parameters to optimize and hyperparameters\n",
        "\n",
        "# Decay LR by a factor of 0.1 every 7 epochs\n",
        "exp_lr_scheduler = lr_scheduler.StepLR(optimizer_ft, step_size=step_size, gamma=gamma)\n"
      ]
    },
    {
      "cell_type": "code",
      "execution_count": null,
      "metadata": {
        "colab": {
          "background_save": true,
          "base_uri": "https://localhost:8080/"
        },
        "id": "Wp1nH4PCUpUF",
        "outputId": "b506e2ae-28e4-4ace-be5a-4472737ccc76"
      },
      "outputs": [
        {
          "name": "stdout",
          "output_type": "stream",
          "text": [
            "Epoch 0/9\n",
            "----------\n",
            "train Loss: 8.9578 Acc: 0.9250\n",
            "train Sensitivity is 0.8795821175839287\n",
            "\n",
            "train specificity is 0.9558228814235102\n",
            "\n",
            "train precision is 0.9311569118247501\n",
            "\n",
            "Confusion matrix [[83905  3878]\n",
            " [ 7181 52453]]\n",
            "val Loss: 6.4701 Acc: 0.9233\n",
            "val Sensitivity is 0.8765390224875352\n",
            "\n",
            "val specificity is 0.9552231884057971\n",
            "\n",
            " val precision is 0.9304745445380572\n",
            "\n",
            "\n",
            "Confusion matrix [[41194  1931]\n",
            " [ 3640 25843]]\n",
            "\n",
            "Epoch 1/9\n",
            "----------\n",
            "train Loss: 6.8466 Acc: 0.9347\n",
            "train Sensitivity is 0.8794982727973975\n",
            "\n",
            "train specificity is 0.9722725356845858\n",
            "\n",
            "train precision is 0.9556503042892023\n",
            "\n",
            "Confusion matrix [[85349  2434]\n",
            " [ 7186 52448]]\n"
          ]
        }
      ],
      "source": [
        "#Actual resnet model training\n",
        "model_resnet = train_model(model_resnet, criterion, optimizer_ft, exp_lr_scheduler,train_loader, test_loader,num_epochs=10)"
      ]
    },
    {
      "cell_type": "code",
      "execution_count": null,
      "metadata": {
        "id": "34ghUi0TzVEi"
      },
      "outputs": [],
      "source": [
        "visualize_model(model_resnet,test_loader,num_images=12)"
      ]
    },
    {
      "cell_type": "code",
      "execution_count": null,
      "metadata": {
        "id": "iJsq-E0UCdMb"
      },
      "outputs": [],
      "source": [
        "#save model\n",
        "torch.save(model_resnet.state_dict(), 'model_resnet_augmented')"
      ]
    },
    {
      "cell_type": "markdown",
      "metadata": {
        "id": "XNS6qlmU22lb"
      },
      "source": [
        "\n",
        "\n",
        "> VGG"
      ]
    },
    {
      "cell_type": "code",
      "execution_count": null,
      "metadata": {
        "colab": {
          "base_uri": "https://localhost:8080/",
          "height": 158,
          "referenced_widgets": [
            "371b8884f49741d6aa6d92ed2df2f7d0",
            "28f2886e78124752aacae5a5a4550b56",
            "6a23c9552d1a4dbd84a2a4f6671cc16d",
            "fd294d05d73643fd93fb69b3bee341da",
            "4783b302ff2742c4a134e01e3c1945a8",
            "df3ce79b8e23453f8fcb53b2de61f7dd",
            "cecba9f9272e44e68027a996623337cc",
            "214efa5240054f55aa5eee40a781cf2b",
            "9874dc03112e449bbacaf358f624f023",
            "1a253ba4946041f094e3eae2748421f8",
            "09e77e19457a44cb90a96acd531d03c5"
          ]
        },
        "id": "B7bckkBn288V",
        "outputId": "59073efa-d0fc-49ee-8252-27c328decf2d"
      },
      "outputs": [
        {
          "name": "stderr",
          "output_type": "stream",
          "text": [
            "/usr/local/lib/python3.7/dist-packages/torchvision/models/_utils.py:209: UserWarning: The parameter 'pretrained' is deprecated since 0.13 and will be removed in 0.15, please use 'weights' instead.\n",
            "  f\"The parameter '{pretrained_param}' is deprecated since 0.13 and will be removed in 0.15, \"\n",
            "/usr/local/lib/python3.7/dist-packages/torchvision/models/_utils.py:223: UserWarning: Arguments other than a weight enum or `None` for 'weights' are deprecated since 0.13 and will be removed in 0.15. The current behavior is equivalent to passing `weights=VGG16_Weights.IMAGENET1K_V1`. You can also use `weights=VGG16_Weights.DEFAULT` to get the most up-to-date weights.\n",
            "  warnings.warn(msg)\n",
            "Downloading: \"https://download.pytorch.org/models/vgg16-397923af.pth\" to /root/.cache/torch/hub/checkpoints/vgg16-397923af.pth\n"
          ]
        },
        {
          "data": {
            "application/vnd.jupyter.widget-view+json": {
              "model_id": "371b8884f49741d6aa6d92ed2df2f7d0",
              "version_major": 2,
              "version_minor": 0
            },
            "text/plain": [
              "  0%|          | 0.00/528M [00:00<?, ?B/s]"
            ]
          },
          "metadata": {},
          "output_type": "display_data"
        }
      ],
      "source": [
        "import torch\n",
        "import torch.nn as nn\n",
        "import torch.optim as optim\n",
        "from torch.optim import lr_scheduler\n",
        "import torch.backends.cudnn as cudnn\n",
        "import numpy as np\n",
        "import torchvision\n",
        "from torchvision import datasets, models, transforms\n",
        "import matplotlib.pyplot as plt\n",
        "import time\n",
        "import os\n",
        "import copy\n",
        "from sklearn.metrics import confusion_matrix\n",
        "cudnn.benchmark = True\n",
        "model_vgg16 = models.vgg16(pretrained=True)#choosing the model\n",
        "\n",
        "num_features = model_vgg16.classifier[6].in_features\n",
        "features = list(model_vgg16.classifier.children())[:-1] # Remove last layer\n",
        "features.extend([nn.Linear(num_features, 2)]) # Add our layer with 4 outputs\n",
        "model_vgg16.classifier = nn.Sequential(*features)\n",
        "model_vgg16 = model_vgg16.to(device)#To train on GPU\n",
        "criterion = nn.CrossEntropyLoss()#Defined cross entropy loss\n",
        "\n",
        "# Observe that all parameters are being optimized\n",
        "optimizer_ft = optim.SGD(model_vgg16.parameters(), lr=0.001, momentum=0.9)#choose which parameters to optimize and hyperparameters\n",
        "\n",
        "# Decay LR by a factor of 0.1 every 7 epochs\n",
        "exp_lr_scheduler = lr_scheduler.StepLR(optimizer_ft, step_size=7, gamma=0.1)"
      ]
    },
    {
      "cell_type": "code",
      "execution_count": null,
      "metadata": {
        "colab": {
          "base_uri": "https://localhost:8080/"
        },
        "id": "-mmpV6QG9rOH",
        "outputId": "8e14534e-b81c-4560-911e-6a0dd50bb41e"
      },
      "outputs": [
        {
          "name": "stdout",
          "output_type": "stream",
          "text": [
            "VGG(\n",
            "  (features): Sequential(\n",
            "    (0): Conv2d(3, 64, kernel_size=(3, 3), stride=(1, 1), padding=(1, 1))\n",
            "    (1): ReLU(inplace=True)\n",
            "    (2): Conv2d(64, 64, kernel_size=(3, 3), stride=(1, 1), padding=(1, 1))\n",
            "    (3): ReLU(inplace=True)\n",
            "    (4): MaxPool2d(kernel_size=2, stride=2, padding=0, dilation=1, ceil_mode=False)\n",
            "    (5): Conv2d(64, 128, kernel_size=(3, 3), stride=(1, 1), padding=(1, 1))\n",
            "    (6): ReLU(inplace=True)\n",
            "    (7): Conv2d(128, 128, kernel_size=(3, 3), stride=(1, 1), padding=(1, 1))\n",
            "    (8): ReLU(inplace=True)\n",
            "    (9): MaxPool2d(kernel_size=2, stride=2, padding=0, dilation=1, ceil_mode=False)\n",
            "    (10): Conv2d(128, 256, kernel_size=(3, 3), stride=(1, 1), padding=(1, 1))\n",
            "    (11): ReLU(inplace=True)\n",
            "    (12): Conv2d(256, 256, kernel_size=(3, 3), stride=(1, 1), padding=(1, 1))\n",
            "    (13): ReLU(inplace=True)\n",
            "    (14): Conv2d(256, 256, kernel_size=(3, 3), stride=(1, 1), padding=(1, 1))\n",
            "    (15): ReLU(inplace=True)\n",
            "    (16): MaxPool2d(kernel_size=2, stride=2, padding=0, dilation=1, ceil_mode=False)\n",
            "    (17): Conv2d(256, 512, kernel_size=(3, 3), stride=(1, 1), padding=(1, 1))\n",
            "    (18): ReLU(inplace=True)\n",
            "    (19): Conv2d(512, 512, kernel_size=(3, 3), stride=(1, 1), padding=(1, 1))\n",
            "    (20): ReLU(inplace=True)\n",
            "    (21): Conv2d(512, 512, kernel_size=(3, 3), stride=(1, 1), padding=(1, 1))\n",
            "    (22): ReLU(inplace=True)\n",
            "    (23): MaxPool2d(kernel_size=2, stride=2, padding=0, dilation=1, ceil_mode=False)\n",
            "    (24): Conv2d(512, 512, kernel_size=(3, 3), stride=(1, 1), padding=(1, 1))\n",
            "    (25): ReLU(inplace=True)\n",
            "    (26): Conv2d(512, 512, kernel_size=(3, 3), stride=(1, 1), padding=(1, 1))\n",
            "    (27): ReLU(inplace=True)\n",
            "    (28): Conv2d(512, 512, kernel_size=(3, 3), stride=(1, 1), padding=(1, 1))\n",
            "    (29): ReLU(inplace=True)\n",
            "    (30): MaxPool2d(kernel_size=2, stride=2, padding=0, dilation=1, ceil_mode=False)\n",
            "  )\n",
            "  (avgpool): AdaptiveAvgPool2d(output_size=(7, 7))\n",
            "  (classifier): Sequential(\n",
            "    (0): Linear(in_features=25088, out_features=4096, bias=True)\n",
            "    (1): ReLU(inplace=True)\n",
            "    (2): Dropout(p=0.5, inplace=False)\n",
            "    (3): Linear(in_features=4096, out_features=4096, bias=True)\n",
            "    (4): ReLU(inplace=True)\n",
            "    (5): Dropout(p=0.5, inplace=False)\n",
            "    (6): Linear(in_features=4096, out_features=2, bias=True)\n",
            "  )\n",
            ")\n"
          ]
        }
      ],
      "source": [
        "print(model_vgg16)"
      ]
    },
    {
      "cell_type": "code",
      "execution_count": null,
      "metadata": {
        "colab": {
          "background_save": true,
          "base_uri": "https://localhost:8080/"
        },
        "id": "Qt_xtHhh3JR6",
        "outputId": "c58e176c-c18a-4976-f652-0432e040669a"
      },
      "outputs": [
        {
          "name": "stdout",
          "output_type": "stream",
          "text": [
            "Epoch 0/4\n",
            "----------\n"
          ]
        }
      ],
      "source": [
        "model_vgg16 = train_model(model_vgg16, criterion, optimizer_ft, exp_lr_scheduler,train_loader, test_loader,num_epochs=5)"
      ]
    },
    {
      "cell_type": "code",
      "execution_count": null,
      "metadata": {
        "colab": {
          "base_uri": "https://localhost:8080/",
          "height": 169
        },
        "id": "QTwS8PuU94Jz",
        "outputId": "cdebeac4-1ddb-4123-c680-8313aaad31ba"
      },
      "outputs": [
        {
          "ename": "NameError",
          "evalue": "ignored",
          "output_type": "error",
          "traceback": [
            "\u001b[0;31m---------------------------------------------------------------------------\u001b[0m",
            "\u001b[0;31mNameError\u001b[0m                                 Traceback (most recent call last)",
            "\u001b[0;32m<ipython-input-1-93d23e4de74c>\u001b[0m in \u001b[0;36m<module>\u001b[0;34m()\u001b[0m\n\u001b[0;32m----> 1\u001b[0;31m \u001b[0mvisualize_model\u001b[0m\u001b[0;34m(\u001b[0m\u001b[0mmodel_vgg16\u001b[0m\u001b[0;34m,\u001b[0m\u001b[0mtest_loader\u001b[0m\u001b[0;34m,\u001b[0m\u001b[0mnum_images\u001b[0m\u001b[0;34m=\u001b[0m\u001b[0;36m6\u001b[0m\u001b[0;34m)\u001b[0m\u001b[0;34m\u001b[0m\u001b[0;34m\u001b[0m\u001b[0m\n\u001b[0m",
            "\u001b[0;31mNameError\u001b[0m: name 'visualize_model' is not defined"
          ]
        }
      ],
      "source": [
        "torch.save(model_resnet.state_dict(), 'model_vgg_5epochs')"
      ]
    },
    {
      "cell_type": "code",
      "execution_count": null,
      "metadata": {
        "id": "M38u1noZowam"
      },
      "outputs": [],
      "source": [
        "\n",
        "\n",
        "#Create test loader \n",
        "class HistopathologicCancerDetectionDataset_test(Dataset):\n",
        "    KAGGLE_DATASET = \"histopathologic-cancer-detection\"\n",
        "\n",
        "    def __init__(self, data_path,figsize=224):\n",
        "        self.data_path = data_path\n",
        "        self.test_id = pd.read_csv(\n",
        "            os.path.join(self.data_path, \"sample_submission.csv\")\n",
        "        )\n",
        "        self.transforms = transforms.Compose([transforms.Resize(figsize),\n",
        "                                              transforms.ToTensor()],\n",
        "                                             )\n",
        "\n",
        "    def __len__(self):\n",
        "        return len(self.test_id)\n",
        "\n",
        "    def __getitem__(self, index):\n",
        "        image_id = self.test_id[\"id\"].iloc[index]\n",
        "        img = Image.open(os.path.join(self.data_path, \"test\", image_id + \".tif\"))\n",
        "        return self.transforms(img), image_id\n",
        "\n",
        "    \n",
        "\n",
        "\n",
        "test=HistopathologicCancerDetectionDataset_test('.')\n",
        "test_loader=DataLoader(test)"
      ]
    },
    {
      "cell_type": "code",
      "execution_count": null,
      "metadata": {
        "colab": {
          "base_uri": "https://localhost:8080/",
          "height": 269
        },
        "id": "QYq9BmiICo9S",
        "outputId": "01f1b501-3f36-4fb0-ee7b-74b5270a1bcd"
      },
      "outputs": [
        {
          "data": {
            "image/png": "[encoded data removed]",
            "text/plain": [
              "<Figure size 432x288 with 1 Axes>"
            ]
          },
          "metadata": {},
          "output_type": "display_data"
        }
      ],
      "source": [
        "import matplotlib.pyplot as plt\n",
        "s=(next(iter(test_loader))[0])#First element in dataloader is the image\n",
        "plt.imshow(s[0, :,:,:].permute(1, 2, 0));"
      ]
    },
    {
      "cell_type": "markdown",
      "source": [
        "Submission to kaggle"
      ],
      "metadata": {
        "id": "f3opN7lfErHP"
      }
    },
    {
      "cell_type": "code",
      "execution_count": null,
      "metadata": {
        "id": "RzpJ8qqkC_Xw"
      },
      "outputs": [],
      "source": [
        "import torch\n",
        "import torch.nn as nn\n",
        "import torch.optim as optim\n",
        "from torch.optim import lr_scheduler\n",
        "import torch.backends.cudnn as cudnn\n",
        "import numpy as np\n",
        "import torchvision\n",
        "from torchvision import datasets, models, transforms\n",
        "import matplotlib.pyplot as plt\n",
        "import time\n",
        "import os\n",
        "import copy\n",
        "from sklearn.metrics import confusion_matrix\n",
        "model = models.resnet18(pretrained=True)\n",
        "num_ftrs = model.fc.in_features\n",
        "# Here the size of each output sample is set to 2.\n",
        "# Alternatively, it can be generalized to nn.Linear(num_ftrs, len(class_names)).\n",
        "model.fc = nn.Linear(num_ftrs, 2)\n",
        "model.load_state_dict(torch.load('model_resnet'))\n",
        "model = model.to(device)\n",
        "model.eval()\n",
        "import csv\n",
        "f = open('results.csv', 'w')\n",
        "writer = csv.writer(f)\n",
        "\n",
        "header = ['id', 'label']\n",
        "writer.writerow(header)\n",
        "with torch.no_grad():\n",
        "        for i, s in enumerate(test_loader):\n",
        "            inputs = s[0].to(device)\n",
        "            \n",
        "            #casting labels to long as float doesn't work to train the resnet\n",
        "            id = (s[1][0])\n",
        "            outputs = model(inputs)\n",
        "            _, preds = torch.max(outputs, 1)\n",
        "            prob = torch.sigmoid(outputs)[:,1]\n",
        "            row=[id,prob.item()]\n",
        "\n",
        "            \n",
        "            writer.writerow(row)\n"
      ]
    },
    {
      "cell_type": "code",
      "execution_count": null,
      "metadata": {
        "id": "anUm9s_0SFUM"
      },
      "outputs": [],
      "source": [
        "f.close()"
      ]
    },
    {
      "cell_type": "code",
      "execution_count": null,
      "metadata": {
        "colab": {
          "base_uri": "https://localhost:8080/",
          "height": 35
        },
        "id": "hhuIBrg8T9UR",
        "outputId": "7bc419c5-42b1-45ff-f096-c0ec23b254a1"
      },
      "outputs": [
        {
          "data": {
            "application/vnd.google.colaboratory.intrinsic+json": {
              "type": "string"
            },
            "text/plain": [
              "'0b2ea2a822ad23fdb1b5dd26653da899fbd2c0d5'"
            ]
          },
          "execution_count": 41,
          "metadata": {},
          "output_type": "execute_result"
        }
      ],
      "source": [
        "next(iter(test_loader))[1][0]"
      ]
    },
    {
      "cell_type": "code",
      "execution_count": null,
      "metadata": {
        "colab": {
          "base_uri": "https://localhost:8080/"
        },
        "id": "VpGXx_U3WJVP",
        "outputId": "25d58c2f-0786-4587-93c5-80ce6da9e592"
      },
      "outputs": [
        {
          "output_type": "stream",
          "name": "stdout",
          "text": [
            "Warning: Your Kaggle API key is readable by other users on this system! To fix this, you can run 'chmod 600 /root/.kaggle/kaggle.json'\n",
            "100% 3.40M/3.40M [00:02<00:00, 1.27MB/s]\n",
            "Successfully submitted to Histopathologic Cancer Detection"
          ]
        }
      ],
      "source": [
        "!kaggle competitions submit histopathologic-cancer-detection -f results.csv -m \"resnet_5_epochs\""
      ]
    }
  ],
  "metadata": {
    "accelerator": "GPU",
    "colab": {
      "collapsed_sections": [],
      "name": "DL Project",
      "provenance": []
    },
    "gpuClass": "standard",
    "kernelspec": {
      "display_name": "Python 3",
      "name": "python3"
    },
    "language_info": {
      "name": "python"
    },
    "widgets": {
      "application/vnd.jupyter.widget-state+json": {
        "09e77e19457a44cb90a96acd531d03c5": {
          "model_module": "@jupyter-widgets/controls",
          "model_module_version": "1.5.0",
          "model_name": "DescriptionStyleModel",
          "state": {
            "_model_module": "@jupyter-widgets/controls",
            "_model_module_version": "1.5.0",
            "_model_name": "DescriptionStyleModel",
            "_view_count": null,
            "_view_module": "@jupyter-widgets/base",
            "_view_module_version": "1.2.0",
            "_view_name": "StyleView",
            "description_width": ""
          }
        },
        "0a5f4fa5d73443cc81ddfc24e8fe2df5": {
          "model_module": "@jupyter-widgets/controls",
          "model_module_version": "1.5.0",
          "model_name": "DescriptionStyleModel",
          "state": {
            "_model_module": "@jupyter-widgets/controls",
            "_model_module_version": "1.5.0",
            "_model_name": "DescriptionStyleModel",
            "_view_count": null,
            "_view_module": "@jupyter-widgets/base",
            "_view_module_version": "1.2.0",
            "_view_name": "StyleView",
            "description_width": ""
          }
        },
        "1a253ba4946041f094e3eae2748421f8": {
          "model_module": "@jupyter-widgets/base",
          "model_module_version": "1.2.0",
          "model_name": "LayoutModel",
          "state": {
            "_model_module": "@jupyter-widgets/base",
            "_model_module_version": "1.2.0",
            "_model_name": "LayoutModel",
            "_view_count": null,
            "_view_module": "@jupyter-widgets/base",
            "_view_module_version": "1.2.0",
            "_view_name": "LayoutView",
            "align_content": null,
            "align_items": null,
            "align_self": null,
            "border": null,
            "bottom": null,
            "display": null,
            "flex": null,
            "flex_flow": null,
            "grid_area": null,
            "grid_auto_columns": null,
            "grid_auto_flow": null,
            "grid_auto_rows": null,
            "grid_column": null,
            "grid_gap": null,
            "grid_row": null,
            "grid_template_areas": null,
            "grid_template_columns": null,
            "grid_template_rows": null,
            "height": null,
            "justify_content": null,
            "justify_items": null,
            "left": null,
            "margin": null,
            "max_height": null,
            "max_width": null,
            "min_height": null,
            "min_width": null,
            "object_fit": null,
            "object_position": null,
            "order": null,
            "overflow": null,
            "overflow_x": null,
            "overflow_y": null,
            "padding": null,
            "right": null,
            "top": null,
            "visibility": null,
            "width": null
          }
        },
        "214efa5240054f55aa5eee40a781cf2b": {
          "model_module": "@jupyter-widgets/base",
          "model_module_version": "1.2.0",
          "model_name": "LayoutModel",
          "state": {
            "_model_module": "@jupyter-widgets/base",
            "_model_module_version": "1.2.0",
            "_model_name": "LayoutModel",
            "_view_count": null,
            "_view_module": "@jupyter-widgets/base",
            "_view_module_version": "1.2.0",
            "_view_name": "LayoutView",
            "align_content": null,
            "align_items": null,
            "align_self": null,
            "border": null,
            "bottom": null,
            "display": null,
            "flex": null,
            "flex_flow": null,
            "grid_area": null,
            "grid_auto_columns": null,
            "grid_auto_flow": null,
            "grid_auto_rows": null,
            "grid_column": null,
            "grid_gap": null,
            "grid_row": null,
            "grid_template_areas": null,
            "grid_template_columns": null,
            "grid_template_rows": null,
            "height": null,
            "justify_content": null,
            "justify_items": null,
            "left": null,
            "margin": null,
            "max_height": null,
            "max_width": null,
            "min_height": null,
            "min_width": null,
            "object_fit": null,
            "object_position": null,
            "order": null,
            "overflow": null,
            "overflow_x": null,
            "overflow_y": null,
            "padding": null,
            "right": null,
            "top": null,
            "visibility": null,
            "width": null
          }
        },
        "28f2886e78124752aacae5a5a4550b56": {
          "model_module": "@jupyter-widgets/controls",
          "model_module_version": "1.5.0",
          "model_name": "HTMLModel",
          "state": {
            "_dom_classes": [],
            "_model_module": "@jupyter-widgets/controls",
            "_model_module_version": "1.5.0",
            "_model_name": "HTMLModel",
            "_view_count": null,
            "_view_module": "@jupyter-widgets/controls",
            "_view_module_version": "1.5.0",
            "_view_name": "HTMLView",
            "description": "",
            "description_tooltip": null,
            "layout": "IPY_MODEL_df3ce79b8e23453f8fcb53b2de61f7dd",
            "placeholder": "​",
            "style": "IPY_MODEL_cecba9f9272e44e68027a996623337cc",
            "value": "100%"
          }
        },
        "36d1f97eb13c41d7bd07b93581a7db16": {
          "model_module": "@jupyter-widgets/base",
          "model_module_version": "1.2.0",
          "model_name": "LayoutModel",
          "state": {
            "_model_module": "@jupyter-widgets/base",
            "_model_module_version": "1.2.0",
            "_model_name": "LayoutModel",
            "_view_count": null,
            "_view_module": "@jupyter-widgets/base",
            "_view_module_version": "1.2.0",
            "_view_name": "LayoutView",
            "align_content": null,
            "align_items": null,
            "align_self": null,
            "border": null,
            "bottom": null,
            "display": null,
            "flex": null,
            "flex_flow": null,
            "grid_area": null,
            "grid_auto_columns": null,
            "grid_auto_flow": null,
            "grid_auto_rows": null,
            "grid_column": null,
            "grid_gap": null,
            "grid_row": null,
            "grid_template_areas": null,
            "grid_template_columns": null,
            "grid_template_rows": null,
            "height": null,
            "justify_content": null,
            "justify_items": null,
            "left": null,
            "margin": null,
            "max_height": null,
            "max_width": null,
            "min_height": null,
            "min_width": null,
            "object_fit": null,
            "object_position": null,
            "order": null,
            "overflow": null,
            "overflow_x": null,
            "overflow_y": null,
            "padding": null,
            "right": null,
            "top": null,
            "visibility": null,
            "width": null
          }
        },
        "371b8884f49741d6aa6d92ed2df2f7d0": {
          "model_module": "@jupyter-widgets/controls",
          "model_module_version": "1.5.0",
          "model_name": "HBoxModel",
          "state": {
            "_dom_classes": [],
            "_model_module": "@jupyter-widgets/controls",
            "_model_module_version": "1.5.0",
            "_model_name": "HBoxModel",
            "_view_count": null,
            "_view_module": "@jupyter-widgets/controls",
            "_view_module_version": "1.5.0",
            "_view_name": "HBoxView",
            "box_style": "",
            "children": [
              "IPY_MODEL_28f2886e78124752aacae5a5a4550b56",
              "IPY_MODEL_6a23c9552d1a4dbd84a2a4f6671cc16d",
              "IPY_MODEL_fd294d05d73643fd93fb69b3bee341da"
            ],
            "layout": "IPY_MODEL_4783b302ff2742c4a134e01e3c1945a8"
          }
        },
        "4783b302ff2742c4a134e01e3c1945a8": {
          "model_module": "@jupyter-widgets/base",
          "model_module_version": "1.2.0",
          "model_name": "LayoutModel",
          "state": {
            "_model_module": "@jupyter-widgets/base",
            "_model_module_version": "1.2.0",
            "_model_name": "LayoutModel",
            "_view_count": null,
            "_view_module": "@jupyter-widgets/base",
            "_view_module_version": "1.2.0",
            "_view_name": "LayoutView",
            "align_content": null,
            "align_items": null,
            "align_self": null,
            "border": null,
            "bottom": null,
            "display": null,
            "flex": null,
            "flex_flow": null,
            "grid_area": null,
            "grid_auto_columns": null,
            "grid_auto_flow": null,
            "grid_auto_rows": null,
            "grid_column": null,
            "grid_gap": null,
            "grid_row": null,
            "grid_template_areas": null,
            "grid_template_columns": null,
            "grid_template_rows": null,
            "height": null,
            "justify_content": null,
            "justify_items": null,
            "left": null,
            "margin": null,
            "max_height": null,
            "max_width": null,
            "min_height": null,
            "min_width": null,
            "object_fit": null,
            "object_position": null,
            "order": null,
            "overflow": null,
            "overflow_x": null,
            "overflow_y": null,
            "padding": null,
            "right": null,
            "top": null,
            "visibility": null,
            "width": null
          }
        },
        "5f61e5d4b8814944b7c8d68548c0e13b": {
          "model_module": "@jupyter-widgets/controls",
          "model_module_version": "1.5.0",
          "model_name": "HBoxModel",
          "state": {
            "_dom_classes": [],
            "_model_module": "@jupyter-widgets/controls",
            "_model_module_version": "1.5.0",
            "_model_name": "HBoxModel",
            "_view_count": null,
            "_view_module": "@jupyter-widgets/controls",
            "_view_module_version": "1.5.0",
            "_view_name": "HBoxView",
            "box_style": "",
            "children": [
              "IPY_MODEL_a48638f9242f430a90e1f9ae3d5237af",
              "IPY_MODEL_9c96fd1957894f4fa585ba9e96e3545f",
              "IPY_MODEL_f73ac9b030084115afa45db2f93988cb"
            ],
            "layout": "IPY_MODEL_f705450101bd48afb83e363a484c14dc"
          }
        },
        "6a23c9552d1a4dbd84a2a4f6671cc16d": {
          "model_module": "@jupyter-widgets/controls",
          "model_module_version": "1.5.0",
          "model_name": "FloatProgressModel",
          "state": {
            "_dom_classes": [],
            "_model_module": "@jupyter-widgets/controls",
            "_model_module_version": "1.5.0",
            "_model_name": "FloatProgressModel",
            "_view_count": null,
            "_view_module": "@jupyter-widgets/controls",
            "_view_module_version": "1.5.0",
            "_view_name": "ProgressView",
            "bar_style": "success",
            "description": "",
            "description_tooltip": null,
            "layout": "IPY_MODEL_214efa5240054f55aa5eee40a781cf2b",
            "max": 553433881,
            "min": 0,
            "orientation": "horizontal",
            "style": "IPY_MODEL_9874dc03112e449bbacaf358f624f023",
            "value": 553433881
          }
        },
        "7f7b487b26bd443f950b98d75138454c": {
          "model_module": "@jupyter-widgets/base",
          "model_module_version": "1.2.0",
          "model_name": "LayoutModel",
          "state": {
            "_model_module": "@jupyter-widgets/base",
            "_model_module_version": "1.2.0",
            "_model_name": "LayoutModel",
            "_view_count": null,
            "_view_module": "@jupyter-widgets/base",
            "_view_module_version": "1.2.0",
            "_view_name": "LayoutView",
            "align_content": null,
            "align_items": null,
            "align_self": null,
            "border": null,
            "bottom": null,
            "display": null,
            "flex": null,
            "flex_flow": null,
            "grid_area": null,
            "grid_auto_columns": null,
            "grid_auto_flow": null,
            "grid_auto_rows": null,
            "grid_column": null,
            "grid_gap": null,
            "grid_row": null,
            "grid_template_areas": null,
            "grid_template_columns": null,
            "grid_template_rows": null,
            "height": null,
            "justify_content": null,
            "justify_items": null,
            "left": null,
            "margin": null,
            "max_height": null,
            "max_width": null,
            "min_height": null,
            "min_width": null,
            "object_fit": null,
            "object_position": null,
            "order": null,
            "overflow": null,
            "overflow_x": null,
            "overflow_y": null,
            "padding": null,
            "right": null,
            "top": null,
            "visibility": null,
            "width": null
          }
        },
        "9874dc03112e449bbacaf358f624f023": {
          "model_module": "@jupyter-widgets/controls",
          "model_module_version": "1.5.0",
          "model_name": "ProgressStyleModel",
          "state": {
            "_model_module": "@jupyter-widgets/controls",
            "_model_module_version": "1.5.0",
            "_model_name": "ProgressStyleModel",
            "_view_count": null,
            "_view_module": "@jupyter-widgets/base",
            "_view_module_version": "1.2.0",
            "_view_name": "StyleView",
            "bar_color": null,
            "description_width": ""
          }
        },
        "9c96fd1957894f4fa585ba9e96e3545f": {
          "model_module": "@jupyter-widgets/controls",
          "model_module_version": "1.5.0",
          "model_name": "FloatProgressModel",
          "state": {
            "_dom_classes": [],
            "_model_module": "@jupyter-widgets/controls",
            "_model_module_version": "1.5.0",
            "_model_name": "FloatProgressModel",
            "_view_count": null,
            "_view_module": "@jupyter-widgets/controls",
            "_view_module_version": "1.5.0",
            "_view_name": "ProgressView",
            "bar_style": "success",
            "description": "",
            "description_tooltip": null,
            "layout": "IPY_MODEL_7f7b487b26bd443f950b98d75138454c",
            "max": 46830571,
            "min": 0,
            "orientation": "horizontal",
            "style": "IPY_MODEL_ac8ad4acd55a4ba9ae8e24ff8e3373c1",
            "value": 46830571
          }
        },
        "a48638f9242f430a90e1f9ae3d5237af": {
          "model_module": "@jupyter-widgets/controls",
          "model_module_version": "1.5.0",
          "model_name": "HTMLModel",
          "state": {
            "_dom_classes": [],
            "_model_module": "@jupyter-widgets/controls",
            "_model_module_version": "1.5.0",
            "_model_name": "HTMLModel",
            "_view_count": null,
            "_view_module": "@jupyter-widgets/controls",
            "_view_module_version": "1.5.0",
            "_view_name": "HTMLView",
            "description": "",
            "description_tooltip": null,
            "layout": "IPY_MODEL_36d1f97eb13c41d7bd07b93581a7db16",
            "placeholder": "​",
            "style": "IPY_MODEL_0a5f4fa5d73443cc81ddfc24e8fe2df5",
            "value": "100%"
          }
        },
        "ac8ad4acd55a4ba9ae8e24ff8e3373c1": {
          "model_module": "@jupyter-widgets/controls",
          "model_module_version": "1.5.0",
          "model_name": "ProgressStyleModel",
          "state": {
            "_model_module": "@jupyter-widgets/controls",
            "_model_module_version": "1.5.0",
            "_model_name": "ProgressStyleModel",
            "_view_count": null,
            "_view_module": "@jupyter-widgets/base",
            "_view_module_version": "1.2.0",
            "_view_name": "StyleView",
            "bar_color": null,
            "description_width": ""
          }
        },
        "bb6cb1184e564b4497b9da8478fd25d7": {
          "model_module": "@jupyter-widgets/controls",
          "model_module_version": "1.5.0",
          "model_name": "DescriptionStyleModel",
          "state": {
            "_model_module": "@jupyter-widgets/controls",
            "_model_module_version": "1.5.0",
            "_model_name": "DescriptionStyleModel",
            "_view_count": null,
            "_view_module": "@jupyter-widgets/base",
            "_view_module_version": "1.2.0",
            "_view_name": "StyleView",
            "description_width": ""
          }
        },
        "c8ba1353b89a40a3a82976b5e145960e": {
          "model_module": "@jupyter-widgets/base",
          "model_module_version": "1.2.0",
          "model_name": "LayoutModel",
          "state": {
            "_model_module": "@jupyter-widgets/base",
            "_model_module_version": "1.2.0",
            "_model_name": "LayoutModel",
            "_view_count": null,
            "_view_module": "@jupyter-widgets/base",
            "_view_module_version": "1.2.0",
            "_view_name": "LayoutView",
            "align_content": null,
            "align_items": null,
            "align_self": null,
            "border": null,
            "bottom": null,
            "display": null,
            "flex": null,
            "flex_flow": null,
            "grid_area": null,
            "grid_auto_columns": null,
            "grid_auto_flow": null,
            "grid_auto_rows": null,
            "grid_column": null,
            "grid_gap": null,
            "grid_row": null,
            "grid_template_areas": null,
            "grid_template_columns": null,
            "grid_template_rows": null,
            "height": null,
            "justify_content": null,
            "justify_items": null,
            "left": null,
            "margin": null,
            "max_height": null,
            "max_width": null,
            "min_height": null,
            "min_width": null,
            "object_fit": null,
            "object_position": null,
            "order": null,
            "overflow": null,
            "overflow_x": null,
            "overflow_y": null,
            "padding": null,
            "right": null,
            "top": null,
            "visibility": null,
            "width": null
          }
        },
        "cecba9f9272e44e68027a996623337cc": {
          "model_module": "@jupyter-widgets/controls",
          "model_module_version": "1.5.0",
          "model_name": "DescriptionStyleModel",
          "state": {
            "_model_module": "@jupyter-widgets/controls",
            "_model_module_version": "1.5.0",
            "_model_name": "DescriptionStyleModel",
            "_view_count": null,
            "_view_module": "@jupyter-widgets/base",
            "_view_module_version": "1.2.0",
            "_view_name": "StyleView",
            "description_width": ""
          }
        },
        "df3ce79b8e23453f8fcb53b2de61f7dd": {
          "model_module": "@jupyter-widgets/base",
          "model_module_version": "1.2.0",
          "model_name": "LayoutModel",
          "state": {
            "_model_module": "@jupyter-widgets/base",
            "_model_module_version": "1.2.0",
            "_model_name": "LayoutModel",
            "_view_count": null,
            "_view_module": "@jupyter-widgets/base",
            "_view_module_version": "1.2.0",
            "_view_name": "LayoutView",
            "align_content": null,
            "align_items": null,
            "align_self": null,
            "border": null,
            "bottom": null,
            "display": null,
            "flex": null,
            "flex_flow": null,
            "grid_area": null,
            "grid_auto_columns": null,
            "grid_auto_flow": null,
            "grid_auto_rows": null,
            "grid_column": null,
            "grid_gap": null,
            "grid_row": null,
            "grid_template_areas": null,
            "grid_template_columns": null,
            "grid_template_rows": null,
            "height": null,
            "justify_content": null,
            "justify_items": null,
            "left": null,
            "margin": null,
            "max_height": null,
            "max_width": null,
            "min_height": null,
            "min_width": null,
            "object_fit": null,
            "object_position": null,
            "order": null,
            "overflow": null,
            "overflow_x": null,
            "overflow_y": null,
            "padding": null,
            "right": null,
            "top": null,
            "visibility": null,
            "width": null
          }
        },
        "f705450101bd48afb83e363a484c14dc": {
          "model_module": "@jupyter-widgets/base",
          "model_module_version": "1.2.0",
          "model_name": "LayoutModel",
          "state": {
            "_model_module": "@jupyter-widgets/base",
            "_model_module_version": "1.2.0",
            "_model_name": "LayoutModel",
            "_view_count": null,
            "_view_module": "@jupyter-widgets/base",
            "_view_module_version": "1.2.0",
            "_view_name": "LayoutView",
            "align_content": null,
            "align_items": null,
            "align_self": null,
            "border": null,
            "bottom": null,
            "display": null,
            "flex": null,
            "flex_flow": null,
            "grid_area": null,
            "grid_auto_columns": null,
            "grid_auto_flow": null,
            "grid_auto_rows": null,
            "grid_column": null,
            "grid_gap": null,
            "grid_row": null,
            "grid_template_areas": null,
            "grid_template_columns": null,
            "grid_template_rows": null,
            "height": null,
            "justify_content": null,
            "justify_items": null,
            "left": null,
            "margin": null,
            "max_height": null,
            "max_width": null,
            "min_height": null,
            "min_width": null,
            "object_fit": null,
            "object_position": null,
            "order": null,
            "overflow": null,
            "overflow_x": null,
            "overflow_y": null,
            "padding": null,
            "right": null,
            "top": null,
            "visibility": null,
            "width": null
          }
        },
        "f73ac9b030084115afa45db2f93988cb": {
          "model_module": "@jupyter-widgets/controls",
          "model_module_version": "1.5.0",
          "model_name": "HTMLModel",
          "state": {
            "_dom_classes": [],
            "_model_module": "@jupyter-widgets/controls",
            "_model_module_version": "1.5.0",
            "_model_name": "HTMLModel",
            "_view_count": null,
            "_view_module": "@jupyter-widgets/controls",
            "_view_module_version": "1.5.0",
            "_view_name": "HTMLView",
            "description": "",
            "description_tooltip": null,
            "layout": "IPY_MODEL_c8ba1353b89a40a3a82976b5e145960e",
            "placeholder": "​",
            "style": "IPY_MODEL_bb6cb1184e564b4497b9da8478fd25d7",
            "value": " 44.7M/44.7M [00:00&lt;00:00, 128MB/s]"
          }
        },
        "fd294d05d73643fd93fb69b3bee341da": {
          "model_module": "@jupyter-widgets/controls",
          "model_module_version": "1.5.0",
          "model_name": "HTMLModel",
          "state": {
            "_dom_classes": [],
            "_model_module": "@jupyter-widgets/controls",
            "_model_module_version": "1.5.0",
            "_model_name": "HTMLModel",
            "_view_count": null,
            "_view_module": "@jupyter-widgets/controls",
            "_view_module_version": "1.5.0",
            "_view_name": "HTMLView",
            "description": "",
            "description_tooltip": null,
            "layout": "IPY_MODEL_1a253ba4946041f094e3eae2748421f8",
            "placeholder": "​",
            "style": "IPY_MODEL_09e77e19457a44cb90a96acd531d03c5",
            "value": " 528M/528M [00:02&lt;00:00, 216MB/s]"
          }
        }
      }
    }
  },
  "nbformat": 4,
  "nbformat_minor": 0
}