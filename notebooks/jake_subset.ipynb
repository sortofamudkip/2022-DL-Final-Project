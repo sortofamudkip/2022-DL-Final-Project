{
 "cells": [
  {
   "cell_type": "markdown",
   "metadata": {},
   "source": [
    "# Code for obtaining a \"representative subset\"\n",
    "\n",
    "I need more coffee"
   ]
  },
  {
   "cell_type": "code",
   "execution_count": null,
   "metadata": {},
   "outputs": [],
   "source": [
    "import numpy as np\n",
    "import pandas as pd\n",
    "import os\n",
    "import shutil\n",
    "from pathlib import Path"
   ]
  },
  {
   "cell_type": "markdown",
   "metadata": {},
   "source": [
    "## Load original data"
   ]
  },
  {
   "cell_type": "code",
   "execution_count": null,
   "metadata": {},
   "outputs": [],
   "source": [
    "images = pd.read_csv(\"../data/train_labels.csv\")\n",
    "images.groupby(\"label\").size()"
   ]
  },
  {
   "cell_type": "code",
   "execution_count": null,
   "metadata": {},
   "outputs": [],
   "source": [
    "# boilerplate\n",
    "assert os.getcwd().endswith(\"/notebooks\")\n",
    "## delete previous samples\n",
    "shutil.rmtree(\"../jake/sample/\", ignore_errors=True)\n",
    "if os.path.isfile(\"../jake/samples.zip\"): os.remove(\"../jake/samples.zip\")\n",
    "Path(\"../jake/sample/\").mkdir(parents=True, exist_ok=True)\n"
   ]
  },
  {
   "cell_type": "markdown",
   "metadata": {},
   "source": [
    "## Take random (balanced) subset"
   ]
  },
  {
   "cell_type": "code",
   "execution_count": null,
   "metadata": {},
   "outputs": [],
   "source": [
    "# rows that are 0 and 1\n",
    "rows_that_are_0 = images[images.label == 0].index.to_numpy()\n",
    "rows_that_are_1 = images[images.label == 1].index.to_numpy()\n",
    "\n",
    "# shuffle them (to randomly select later)\n",
    "np.random.shuffle(rows_that_are_0)\n",
    "np.random.shuffle(rows_that_are_1)\n",
    "\n",
    "\n",
    "### SELECT TRAINING DATA\n",
    "TRAIN_0_SIZE = 256\n",
    "TRAIN_1_SIZE = 256\n",
    "\n",
    "# select random from each\n",
    "train_subset_that_is_0 = images.loc[rows_that_are_0[:TRAIN_0_SIZE]]\n",
    "train_subset_that_is_1 = images.loc[rows_that_are_1[:TRAIN_1_SIZE]]\n",
    "train_subset = pd.concat([train_subset_that_is_0, train_subset_that_is_1])\n",
    "\n",
    "# copy them to the dump/ folder for colab\n",
    "Path(\"../jake/sample/train/\").mkdir(parents=True, exist_ok=True)\n",
    "for row in train_subset.itertuples(index=False):\n",
    "    source_fname = f\"../data/train/{row.id}.tif\"\n",
    "    dest_fname   = f\"../jake/sample/train/{row.id}.tif\"\n",
    "    shutil.copyfile(source_fname, dest_fname)\n",
    "train_subset.to_csv(\"../jake/sample/train_labels.csv\")"
   ]
  },
  {
   "cell_type": "code",
   "execution_count": null,
   "metadata": {},
   "outputs": [],
   "source": [
    "# zip everything\n",
    "shutil.make_archive(\"../jake/sample\", 'zip', \"../jake/sample\") "
   ]
  }
 ],
 "metadata": {
  "interpreter": {
   "hash": "aee8b7b246df8f9039afb4144a1f6fd8d2ca17a180786b69acc140d282b71a49"
  },
  "kernelspec": {
   "display_name": "Python 3.10.4 64-bit",
   "language": "python",
   "name": "python3"
  },
  "language_info": {
   "codemirror_mode": {
    "name": "ipython",
    "version": 3
   },
   "file_extension": ".py",
   "mimetype": "text/x-python",
   "name": "python",
   "nbconvert_exporter": "python",
   "pygments_lexer": "ipython3",
   "version": "3.10.4"
  },
  "orig_nbformat": 4
 },
 "nbformat": 4,
 "nbformat_minor": 2
}
